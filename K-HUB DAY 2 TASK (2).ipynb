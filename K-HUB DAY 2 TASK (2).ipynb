{
  "nbformat": 4,
  "nbformat_minor": 0,
  "metadata": {
    "colab": {
      "provenance": []
    },
    "kernelspec": {
      "name": "python3",
      "display_name": "Python 3"
    },
    "language_info": {
      "name": "python"
    }
  },
  "cells": [
    {
      "cell_type": "markdown",
      "source": [
        "FUNCTIONS"
      ],
      "metadata": {
        "id": "nHIcztXx_76U"
      }
    },
    {
      "cell_type": "markdown",
      "source": [
        "Functions are nothing but a block of code which is run only when the function call.\n",
        "It is used many projects and do problems."
      ],
      "metadata": {
        "id": "eMCWJ2zkAIqH"
      }
    },
    {
      "cell_type": "code",
      "source": [
        "def My_function():\n",
        "    print(My_function)"
      ],
      "metadata": {
        "id": "i-P5kMbKAf0q"
      },
      "execution_count": null,
      "outputs": []
    },
    {
      "cell_type": "markdown",
      "source": [
        "CALLING A FUNCTION"
      ],
      "metadata": {
        "id": "SlxCjtLKA_mT"
      }
    },
    {
      "cell_type": "markdown",
      "source": [
        "To call the function we can use function name follow the parenthesis."
      ],
      "metadata": {
        "id": "DKMr_Xq_Cr5Y"
      }
    },
    {
      "cell_type": "code",
      "source": [
        "def My_function():\n",
        "    print(\"Hello World!\")\n",
        "My_function()"
      ],
      "metadata": {
        "colab": {
          "base_uri": "https://localhost:8080/"
        },
        "id": "G4J5ZlUBBP_m",
        "outputId": "d73d4eee-fb47-4eeb-8605-65a7e2a1e62a"
      },
      "execution_count": null,
      "outputs": [
        {
          "output_type": "stream",
          "name": "stdout",
          "text": [
            "Hello World!\n"
          ]
        }
      ]
    },
    {
      "cell_type": "markdown",
      "source": [
        "ARGUMENTS"
      ],
      "metadata": {
        "id": "kp6VzCWsDPYf"
      }
    },
    {
      "cell_type": "markdown",
      "source": [
        "Arguments are written in the inside of the parenthesis it will only applied the function name after.In the parenthesis we can add no of arguments like ( gmail,name)."
      ],
      "metadata": {
        "id": "CZ9YUjcTDRoR"
      }
    },
    {
      "cell_type": "code",
      "source": [
        "def my_function(hi):\n",
        "    print(hi + \"sriram\")\n",
        "\n",
        "my_function(\"good\")\n",
        "my_function(\"bad\")\n",
        "my_function(\"dirty\")"
      ],
      "metadata": {
        "colab": {
          "base_uri": "https://localhost:8080/"
        },
        "id": "eZjtcwtcD-om",
        "outputId": "0ea55d33-e520-4ade-b35c-883d63741bc3"
      },
      "execution_count": null,
      "outputs": [
        {
          "output_type": "stream",
          "name": "stdout",
          "text": [
            "goodsriram\n",
            "badsriram\n",
            "dirtysriram\n"
          ]
        }
      ]
    },
    {
      "cell_type": "markdown",
      "source": [
        "PARAMETERS OR ARGUMENTS"
      ],
      "metadata": {
        "id": "kNDkK94RHivD"
      }
    },
    {
      "cell_type": "markdown",
      "source": [
        "A parameter is the variable listed inside the parentheses in the function definition.\n",
        "\n",
        "An argument is the value that is sent to the function when it is called"
      ],
      "metadata": {
        "id": "1rq2X125Hp8x"
      }
    },
    {
      "cell_type": "code",
      "source": [
        "def sriram(csm,branch):\n",
        "   print(csm + \" \" + branch)\n",
        "\n",
        "sriram(\"sri\",\"shithu\")"
      ],
      "metadata": {
        "colab": {
          "base_uri": "https://localhost:8080/"
        },
        "id": "JPiaIGDHH4rN",
        "outputId": "f066d796-5fe5-4e0b-cdca-6a4044f3741a"
      },
      "execution_count": null,
      "outputs": [
        {
          "output_type": "stream",
          "name": "stdout",
          "text": [
            "sri shithu\n"
          ]
        }
      ]
    },
    {
      "cell_type": "markdown",
      "source": [
        "ARBITARY ARGUMENTS , *args"
      ],
      "metadata": {
        "id": "Lq9QiHFtO3X0"
      }
    },
    {
      "cell_type": "markdown",
      "source": [
        "It is nothing but there are no of arguments written in the parenthesis by naming of *args.It gives no of names based on parameter name."
      ],
      "metadata": {
        "id": "JFzEgYFCPBlz"
      }
    },
    {
      "cell_type": "code",
      "source": [
        "def my_heart(*animals):\n",
        "    print(\" my animal name is \" + animals[2])\n",
        "\n",
        "my_heart(\"dogs\",\"cats\",\"bears\",\"goats\")"
      ],
      "metadata": {
        "colab": {
          "base_uri": "https://localhost:8080/"
        },
        "id": "PJhPYTkFPmQf",
        "outputId": "79751519-03a4-49c5-b1d1-9d3a48444006"
      },
      "execution_count": null,
      "outputs": [
        {
          "output_type": "stream",
          "name": "stdout",
          "text": [
            " my animal name is bears\n"
          ]
        }
      ]
    },
    {
      "cell_type": "code",
      "source": [
        "def function_name(*hero):\n",
        "\n",
        "   for i in hero:\n",
        "    print(\"powerstar\",i)\n",
        "\n",
        "function_name(\"pawan kalyan\",\"akira nandhan\")"
      ],
      "metadata": {
        "colab": {
          "base_uri": "https://localhost:8080/"
        },
        "id": "82hBBUiSQ7oJ",
        "outputId": "1cf40550-67e2-4583-8e91-d03d32d63876"
      },
      "execution_count": null,
      "outputs": [
        {
          "output_type": "stream",
          "name": "stdout",
          "text": [
            "powerstar pawan kalyan\n",
            "powerstar akira nandhan\n"
          ]
        }
      ]
    },
    {
      "cell_type": "markdown",
      "source": [
        "\n",
        "ARBITRARY KEYWORD ARGUMENTS, **kwargs"
      ],
      "metadata": {
        "id": "PrRcrp8yUOb3"
      }
    },
    {
      "cell_type": "markdown",
      "source": [
        "Sometimes, you don’t know how many key = value pairs someone might give to your function.\n",
        "\n",
        "So, we use **kwargs to accept any number of keyword arguments."
      ],
      "metadata": {
        "id": "bv2V9fppUsMO"
      }
    },
    {
      "cell_type": "code",
      "source": [
        "def my_function(**students):\n",
        "    print(\"His last student name is \" + students[\"l_name\"])\n",
        "\n",
        "my_function(f_name=\"gopi\" , l_name=\"nagendra\")"
      ],
      "metadata": {
        "colab": {
          "base_uri": "https://localhost:8080/"
        },
        "id": "DfKXFwf2U0cA",
        "outputId": "76edf377-b948-4c27-9792-2e2f022ff042"
      },
      "execution_count": null,
      "outputs": [
        {
          "output_type": "stream",
          "name": "stdout",
          "text": [
            "His last student name is nagendra\n"
          ]
        }
      ]
    },
    {
      "cell_type": "markdown",
      "source": [
        "DEFAULT PARAMETER VALUE"
      ],
      "metadata": {
        "id": "OWOGwqP-XCy_"
      }
    },
    {
      "cell_type": "markdown",
      "source": [
        "Here is the simple example for default parameter value."
      ],
      "metadata": {
        "id": "XCIbZJ9qXJCs"
      }
    },
    {
      "cell_type": "code",
      "source": [
        "# Normal parameter\n",
        "\n",
        "def sriram(country):\n",
        "    print(\"I am from \" + country)\n",
        "sriram(\"India\")\n",
        "sriram(\"USA\")\n",
        "sriram(\"Indonesia\")"
      ],
      "metadata": {
        "colab": {
          "base_uri": "https://localhost:8080/"
        },
        "id": "3a6Acy6OXPSP",
        "outputId": "88479c49-cb3b-4d56-eceb-604319a8f7db"
      },
      "execution_count": null,
      "outputs": [
        {
          "output_type": "stream",
          "name": "stdout",
          "text": [
            "I am from India\n",
            "I am from USA\n",
            "I am from Indonesia\n"
          ]
        }
      ]
    },
    {
      "cell_type": "code",
      "source": [
        "# Default parameter\n",
        "\n",
        "def default_parameter(continent = \"Asia\"):\n",
        "    print(\"I am from\"  + continent)\n",
        "default_parameter(\"Antartica\")\n",
        "default_parameter()\n",
        "default_parameter(\"Europe\")"
      ],
      "metadata": {
        "colab": {
          "base_uri": "https://localhost:8080/"
        },
        "id": "FQf2BjciXzvu",
        "outputId": "16e449b9-0687-4ba9-baaf-aad62642c984"
      },
      "execution_count": null,
      "outputs": [
        {
          "output_type": "stream",
          "name": "stdout",
          "text": [
            "I am fromAntartica\n",
            "I am fromAsia\n",
            "I am fromEurope\n"
          ]
        }
      ]
    },
    {
      "cell_type": "markdown",
      "source": [
        "\n",
        "PASSING A LIST AS AN ARGUMENT"
      ],
      "metadata": {
        "id": "whi6EBBkk8VG"
      }
    },
    {
      "cell_type": "markdown",
      "source": [
        "In python functions passing a list as an argument will do we can send any data types of argument of a function like str,list,tuple,dict etc ."
      ],
      "metadata": {
        "id": "Zoeqco2glFmq"
      }
    },
    {
      "cell_type": "code",
      "source": [
        "def my_function(food):\n",
        "  for x in food:\n",
        "    print(x)\n",
        "\n",
        "fruits = [\"apple\", \"banana\", \"cherry\"]\n",
        "\n",
        "my_function(fruits)"
      ],
      "metadata": {
        "colab": {
          "base_uri": "https://localhost:8080/"
        },
        "id": "95bW7aBQofMA",
        "outputId": "50fc1c36-7d0d-460b-c4f7-ba8ef5325a8d"
      },
      "execution_count": null,
      "outputs": [
        {
          "output_type": "stream",
          "name": "stdout",
          "text": [
            "apple\n",
            "banana\n",
            "cherry\n"
          ]
        }
      ]
    },
    {
      "cell_type": "markdown",
      "source": [
        "RETURN VALUES"
      ],
      "metadata": {
        "id": "bxiUFvi9pABh"
      }
    },
    {
      "cell_type": "markdown",
      "source": [
        "When a function finishes its job, it can give back a result.\n",
        "That result is called the return value.\n",
        "\n",
        "You use the return keyword to send the result back."
      ],
      "metadata": {
        "id": "g7muON7BpCGl"
      }
    },
    {
      "cell_type": "code",
      "source": [
        "def my_function(x):\n",
        " return 9 * x\n",
        "\n",
        "print(my_function(3))\n",
        "print(my_function(5))\n",
        "print(my_function(8))"
      ],
      "metadata": {
        "colab": {
          "base_uri": "https://localhost:8080/"
        },
        "id": "i8B0KG9BpWp6",
        "outputId": "9386fff2-e7e5-4df3-a5d5-339ad41982f0"
      },
      "execution_count": null,
      "outputs": [
        {
          "output_type": "stream",
          "name": "stdout",
          "text": [
            "27\n",
            "45\n",
            "72\n"
          ]
        }
      ]
    },
    {
      "cell_type": "markdown",
      "source": [
        "RECURSION"
      ],
      "metadata": {
        "id": "nuojizgZrGRz"
      }
    },
    {
      "cell_type": "markdown",
      "source": [
        "In python recursion will call the function itself.It is a common mathematical and programming concepts."
      ],
      "metadata": {
        "id": "ptCZf_oerJOG"
      }
    },
    {
      "cell_type": "code",
      "source": [
        "def tri_recursion(k):\n",
        "  if(k > 0):\n",
        "    result = k + tri_recursion(k - 1)\n",
        "    print(result)\n",
        "  else:\n",
        "    result = 0\n",
        "  return result\n",
        "\n",
        "print(\"Recursion Example Results:\")\n",
        "tri_recursion(6)"
      ],
      "metadata": {
        "id": "pvkYkuu-rmK2",
        "outputId": "f72b6596-001e-4d31-cc4d-201571d84b2d",
        "colab": {
          "base_uri": "https://localhost:8080/"
        }
      },
      "execution_count": null,
      "outputs": [
        {
          "output_type": "stream",
          "name": "stdout",
          "text": [
            "Recursion Example Results:\n",
            "1\n",
            "3\n",
            "6\n",
            "10\n",
            "15\n",
            "21\n"
          ]
        },
        {
          "output_type": "execute_result",
          "data": {
            "text/plain": [
              "21"
            ]
          },
          "metadata": {},
          "execution_count": 3
        }
      ]
    }
  ]
}