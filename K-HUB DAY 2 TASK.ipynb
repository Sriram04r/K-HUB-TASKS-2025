{
  "nbformat": 4,
  "nbformat_minor": 0,
  "metadata": {
    "colab": {
      "provenance": []
    },
    "kernelspec": {
      "name": "python3",
      "display_name": "Python 3"
    },
    "language_info": {
      "name": "python"
    }
  },
  "cells": [
    {
      "cell_type": "markdown",
      "source": [
        "# LOOPS"
      ],
      "metadata": {
        "id": "Yj4KvqqgQfgK"
      }
    },
    {
      "cell_type": "markdown",
      "source": [
        "# FOR  LOOP"
      ],
      "metadata": {
        "id": "mlxHv2i_fWFb"
      }
    },
    {
      "cell_type": "markdown",
      "source": [
        "For loop is an iterative statement it can use iterative over a sequence like list,strings,tuples,etc...\n",
        "\n"
      ],
      "metadata": {
        "id": "Ovi--rybQw0k"
      }
    },
    {
      "cell_type": "code",
      "source": [
        "# looping through a list\n",
        "\n",
        "\n",
        "a = [\"apple\",\"banana\",\"strawberry\"]\n",
        "for i in a:\n",
        "  print(i)"
      ],
      "metadata": {
        "colab": {
          "base_uri": "https://localhost:8080/"
        },
        "id": "cUx720KESOeG",
        "outputId": "781104c5-8e82-4114-ae5d-9fdd9d5167d3"
      },
      "execution_count": null,
      "outputs": [
        {
          "output_type": "stream",
          "name": "stdout",
          "text": [
            "apple\n",
            "banana\n",
            "strawberry\n"
          ]
        }
      ]
    },
    {
      "cell_type": "code",
      "source": [
        "# looping through A STRING\n",
        "\n",
        "ab = \"ram\"\n",
        "for a in ab:\n",
        "  print(a)"
      ],
      "metadata": {
        "colab": {
          "base_uri": "https://localhost:8080/"
        },
        "id": "lzlMueifSpA4",
        "outputId": "fde67d10-6db3-4880-a023-d8c051d50fe1"
      },
      "execution_count": null,
      "outputs": [
        {
          "output_type": "stream",
          "name": "stdout",
          "text": [
            "r\n",
            "a\n",
            "m\n"
          ]
        }
      ]
    },
    {
      "cell_type": "code",
      "source": [
        "# looping through a tuple\n",
        "\n",
        "sudheer = (1,'raghu',4.7)\n",
        "for sri in sudheer:\n",
        "  print(sri)"
      ],
      "metadata": {
        "colab": {
          "base_uri": "https://localhost:8080/"
        },
        "id": "Qhe_YkLdTJj5",
        "outputId": "20b2877c-1849-40a4-99cd-5d8d26096bf0"
      },
      "execution_count": null,
      "outputs": [
        {
          "output_type": "stream",
          "name": "stdout",
          "text": [
            "1\n",
            "raghu\n",
            "4.7\n"
          ]
        }
      ]
    },
    {
      "cell_type": "markdown",
      "source": [
        "**BREAK IN FOR LOOP**"
      ],
      "metadata": {
        "id": "bFPq5fZ8T-TT"
      }
    },
    {
      "cell_type": "code",
      "source": [
        "FRUIT = ['SRI','CHERRY','GIRI','SANJU']\n",
        "for friends in FRUIT:\n",
        "  print(friends)\n",
        "  if friends == 'CHERRY':\n",
        "    break\n",
        "\n"
      ],
      "metadata": {
        "colab": {
          "base_uri": "https://localhost:8080/"
        },
        "id": "BNNaJG2aUGpE",
        "outputId": "cc38bb52-94eb-49f4-c86c-70dd12b374c8"
      },
      "execution_count": 69,
      "outputs": [
        {
          "output_type": "stream",
          "name": "stdout",
          "text": [
            "SRI\n",
            "CHERRY\n"
          ]
        }
      ]
    },
    {
      "cell_type": "code",
      "source": [
        "fruits = ('RAM','SRI','HARA')\n",
        "for i in fruits:\n",
        " if i == 'SRI':\n",
        "   break\n",
        "  print(i)"
      ],
      "metadata": {
        "id": "yXyrb2OwVZ4i",
        "colab": {
          "base_uri": "https://localhost:8080/"
        },
        "outputId": "aed66e7d-e0a7-419d-c9eb-c18ce14ead7c"
      },
      "execution_count": 72,
      "outputs": [
        {
          "output_type": "stream",
          "name": "stdout",
          "text": [
            "RAM\n"
          ]
        }
      ]
    },
    {
      "cell_type": "markdown",
      "source": [
        "**CONTINUE IN FOR LOOP**"
      ],
      "metadata": {
        "id": "wMe4KmF_X7fd"
      }
    },
    {
      "cell_type": "code",
      "source": [
        "fruits = [\"apple\", \"banana\", \"cherry\"]\n",
        "for x in fruits:\n",
        "  if x == \"banana\":\n",
        "    continue\n",
        "  print(x)"
      ],
      "metadata": {
        "colab": {
          "base_uri": "https://localhost:8080/"
        },
        "id": "2Rbt6ZHeYB3a",
        "outputId": "451cbdc3-6f3f-4672-d48a-727ade5c7d18"
      },
      "execution_count": 17,
      "outputs": [
        {
          "output_type": "stream",
          "name": "stdout",
          "text": [
            "apple\n",
            "cherry\n"
          ]
        }
      ]
    },
    {
      "cell_type": "markdown",
      "source": [
        "**RANGE FUNCTION( ) IN FOR LOOP**"
      ],
      "metadata": {
        "id": "5EnrVcXPY6bc"
      }
    },
    {
      "cell_type": "markdown",
      "source": [
        "Range fun() is nothing but we can print within an amount of range like (0,9)."
      ],
      "metadata": {
        "id": "kC4TSjoXZHgB"
      }
    },
    {
      "cell_type": "code",
      "source": [
        "for i in range(5):\n",
        " print(i)"
      ],
      "metadata": {
        "colab": {
          "base_uri": "https://localhost:8080/"
        },
        "id": "JwEUFEOnZX-V",
        "outputId": "c4c2044a-e296-4983-d26c-b9f4db46bf85"
      },
      "execution_count": 23,
      "outputs": [
        {
          "output_type": "stream",
          "name": "stdout",
          "text": [
            "0\n",
            "1\n",
            "2\n",
            "3\n",
            "4\n"
          ]
        }
      ]
    },
    {
      "cell_type": "code",
      "source": [
        "for x in range(2,34):\n",
        " print(x)"
      ],
      "metadata": {
        "colab": {
          "base_uri": "https://localhost:8080/"
        },
        "id": "wiapulXIaCKd",
        "outputId": "be7dd30a-7aa5-4124-f61a-84a1d0c96c9c"
      },
      "execution_count": 25,
      "outputs": [
        {
          "output_type": "stream",
          "name": "stdout",
          "text": [
            "2\n",
            "3\n",
            "4\n",
            "5\n",
            "6\n",
            "7\n",
            "8\n",
            "9\n",
            "10\n",
            "11\n",
            "12\n",
            "13\n",
            "14\n",
            "15\n",
            "16\n",
            "17\n",
            "18\n",
            "19\n",
            "20\n",
            "21\n",
            "22\n",
            "23\n",
            "24\n",
            "25\n",
            "26\n",
            "27\n",
            "28\n",
            "29\n",
            "30\n",
            "31\n",
            "32\n",
            "33\n"
          ]
        }
      ]
    },
    {
      "cell_type": "code",
      "source": [
        "for i in range(1,25,2):\n",
        "  print(i)"
      ],
      "metadata": {
        "colab": {
          "base_uri": "https://localhost:8080/"
        },
        "id": "2lZvsWKXaaco",
        "outputId": "411a41ae-d521-459b-e5f7-8a7f515f2827"
      },
      "execution_count": 26,
      "outputs": [
        {
          "output_type": "stream",
          "name": "stdout",
          "text": [
            "1\n",
            "3\n",
            "5\n",
            "7\n",
            "9\n",
            "11\n",
            "13\n",
            "15\n",
            "17\n",
            "19\n",
            "21\n",
            "23\n"
          ]
        }
      ]
    },
    {
      "cell_type": "markdown",
      "source": [
        "**ELSE IN FOR LOOP**"
      ],
      "metadata": {
        "id": "ugsQR26Aa-nD"
      }
    },
    {
      "cell_type": "markdown",
      "source": [
        "The else keyword in a for loop specifies a block of code to be executed when the loop is finished."
      ],
      "metadata": {
        "id": "DJmdoafMbCTT"
      }
    },
    {
      "cell_type": "code",
      "source": [
        "for s in range(9):\n",
        "  print(s)\n",
        "else:\n",
        "    print('awesome')"
      ],
      "metadata": {
        "colab": {
          "base_uri": "https://localhost:8080/"
        },
        "id": "CleYvkk5bFD8",
        "outputId": "0511ac37-b582-492d-d707-411922b9633d"
      },
      "execution_count": 28,
      "outputs": [
        {
          "output_type": "stream",
          "name": "stdout",
          "text": [
            "0\n",
            "1\n",
            "2\n",
            "3\n",
            "4\n",
            "5\n",
            "6\n",
            "7\n",
            "8\n",
            "awesome\n"
          ]
        }
      ]
    },
    {
      "cell_type": "code",
      "source": [
        "for i in range(1,25,2):\n",
        "  print(i)\n",
        "else:\n",
        "    print('good')"
      ],
      "metadata": {
        "colab": {
          "base_uri": "https://localhost:8080/"
        },
        "id": "lub10YNNbr-S",
        "outputId": "b61c950f-d21c-4b34-c3f9-4fb76adfc848"
      },
      "execution_count": 29,
      "outputs": [
        {
          "output_type": "stream",
          "name": "stdout",
          "text": [
            "1\n",
            "3\n",
            "5\n",
            "7\n",
            "9\n",
            "11\n",
            "13\n",
            "15\n",
            "17\n",
            "19\n",
            "21\n",
            "23\n",
            "good\n"
          ]
        }
      ]
    },
    {
      "cell_type": "markdown",
      "source": [
        "*Note: The else block will NOT be executed if the loop is stopped by a break statement.*"
      ],
      "metadata": {
        "id": "8ikQlX2Cb4AX"
      }
    },
    {
      "cell_type": "code",
      "source": [
        "for x in range(6):\n",
        "  if x == 3: break\n",
        "  print(x)\n",
        "else:\n",
        "  print(\"Finally finished!\")\n"
      ],
      "metadata": {
        "colab": {
          "base_uri": "https://localhost:8080/"
        },
        "id": "I6lmaCAzcEIh",
        "outputId": "c8f62e6b-87a2-489f-a54b-5ca6a9302969"
      },
      "execution_count": 30,
      "outputs": [
        {
          "output_type": "stream",
          "name": "stdout",
          "text": [
            "0\n",
            "1\n",
            "2\n"
          ]
        }
      ]
    },
    {
      "cell_type": "markdown",
      "source": [
        "**NESTED FOR LOOP**"
      ],
      "metadata": {
        "id": "390c5Go8cU8s"
      }
    },
    {
      "cell_type": "markdown",
      "source": [
        "Nested loop is nothing but the loop inside another loop is called nested loop."
      ],
      "metadata": {
        "id": "BJR3li-pcap_"
      }
    },
    {
      "cell_type": "code",
      "source": [
        "a = ('sriram','krishna','arjun')\n",
        "b = ['vamsi','lokesh']\n",
        "for i in a:\n",
        "  for j in b:\n",
        "    print(i,j)"
      ],
      "metadata": {
        "colab": {
          "base_uri": "https://localhost:8080/"
        },
        "id": "w67o8HMecnGC",
        "outputId": "2a14964d-8bd2-4601-e6da-1688925c8d55"
      },
      "execution_count": 31,
      "outputs": [
        {
          "output_type": "stream",
          "name": "stdout",
          "text": [
            "sriram vamsi\n",
            "sriram lokesh\n",
            "krishna vamsi\n",
            "krishna lokesh\n",
            "arjun vamsi\n",
            "arjun lokesh\n"
          ]
        }
      ]
    },
    {
      "cell_type": "markdown",
      "source": [
        "**PASS STATEMENT IN FOR LOOP**"
      ],
      "metadata": {
        "id": "_QLbBRzbdXS-"
      }
    },
    {
      "cell_type": "markdown",
      "source": [
        "Generally for loop doesn't empty In some cases it  nednot contain any data we can use pass keyword."
      ],
      "metadata": {
        "id": "9yIqkSaNdc1d"
      }
    },
    {
      "cell_type": "code",
      "source": [
        "for x in [0, 1, 2]:\n",
        "  pass\n"
      ],
      "metadata": {
        "id": "kIMse_WTd_lk"
      },
      "execution_count": 32,
      "outputs": []
    },
    {
      "cell_type": "markdown",
      "source": [
        "# WHILE LOOP"
      ],
      "metadata": {
        "id": "LQTM-TfNfR4u"
      }
    },
    {
      "cell_type": "markdown",
      "source": [
        "While will executes when the condition is true."
      ],
      "metadata": {
        "id": "k5CMqRmzfjr_"
      }
    },
    {
      "cell_type": "code",
      "source": [
        "i = 7\n",
        "while i < 10:\n",
        "  print(i)\n",
        "  i += 1"
      ],
      "metadata": {
        "colab": {
          "base_uri": "https://localhost:8080/"
        },
        "id": "WV-4ivyHfsrW",
        "outputId": "7a3d6a24-f95d-4df5-9c58-18729ad03e2c"
      },
      "execution_count": 33,
      "outputs": [
        {
          "output_type": "stream",
          "name": "stdout",
          "text": [
            "7\n",
            "8\n",
            "9\n"
          ]
        }
      ]
    },
    {
      "cell_type": "code",
      "source": [
        "i = 5\n",
        "while i < 15:\n",
        "  print(i)\n",
        "  i += 1"
      ],
      "metadata": {
        "colab": {
          "base_uri": "https://localhost:8080/"
        },
        "id": "ifknUDCIgEL9",
        "outputId": "fc8013bb-c30d-4cf0-9876-ba9ea95d21f0"
      },
      "execution_count": 41,
      "outputs": [
        {
          "output_type": "stream",
          "name": "stdout",
          "text": [
            "5\n",
            "6\n",
            "7\n",
            "8\n",
            "9\n",
            "10\n",
            "11\n",
            "12\n",
            "13\n",
            "14\n"
          ]
        }
      ]
    },
    {
      "cell_type": "markdown",
      "source": [
        "**BREAK STAEMENT USING WHILE LOOP**"
      ],
      "metadata": {
        "id": "MmRdBurslkyv"
      }
    },
    {
      "cell_type": "code",
      "source": [
        "i = 1\n",
        "while i < 23:\n",
        "  print(i)\n",
        "  if i == 15:\n",
        "   break\n",
        "  i += 1"
      ],
      "metadata": {
        "colab": {
          "base_uri": "https://localhost:8080/"
        },
        "id": "kCtxfsnLlrLX",
        "outputId": "0c621ad5-1097-4cca-a40e-dfa82496f21f"
      },
      "execution_count": 44,
      "outputs": [
        {
          "output_type": "stream",
          "name": "stdout",
          "text": [
            "1\n",
            "2\n",
            "3\n",
            "4\n",
            "5\n",
            "6\n",
            "7\n",
            "8\n",
            "9\n",
            "10\n",
            "11\n",
            "12\n",
            "13\n",
            "14\n",
            "15\n"
          ]
        }
      ]
    },
    {
      "cell_type": "markdown",
      "source": [
        "**CONTINUE STATEMENT USING WHILE LOOP**"
      ],
      "metadata": {
        "id": "u_QuVucBm-H-"
      }
    },
    {
      "cell_type": "code",
      "source": [
        "i = 1\n",
        "while i < 6:\n",
        "  i += 1\n",
        "  if i == 3:\n",
        "    continue\n",
        "  print(i)"
      ],
      "metadata": {
        "colab": {
          "base_uri": "https://localhost:8080/"
        },
        "id": "GZ715WrmnEzK",
        "outputId": "835d4ef2-a01c-44f3-f781-b2958d140b50"
      },
      "execution_count": 48,
      "outputs": [
        {
          "output_type": "stream",
          "name": "stdout",
          "text": [
            "2\n",
            "4\n",
            "5\n",
            "6\n"
          ]
        }
      ]
    },
    {
      "cell_type": "markdown",
      "source": [
        "# BASIC LOOP PROBLEMS"
      ],
      "metadata": {
        "id": "TPll93xUpy6T"
      }
    },
    {
      "cell_type": "markdown",
      "source": [
        "**1.Print numbers from 1 to 10 using a for loop.**"
      ],
      "metadata": {
        "id": "W3bBV8Evp3sE"
      }
    },
    {
      "cell_type": "code",
      "source": [
        "for i in range(1,11):\n",
        " print(i)"
      ],
      "metadata": {
        "colab": {
          "base_uri": "https://localhost:8080/"
        },
        "id": "nk9mnCRAp9L8",
        "outputId": "b445213d-13ad-4e69-e812-7745517b8879"
      },
      "execution_count": 52,
      "outputs": [
        {
          "output_type": "stream",
          "name": "stdout",
          "text": [
            "1\n",
            "2\n",
            "3\n",
            "4\n",
            "5\n",
            "6\n",
            "7\n",
            "8\n",
            "9\n",
            "10\n"
          ]
        }
      ]
    },
    {
      "cell_type": "markdown",
      "source": [
        "**2.Print even numbers from 1 to 20 using a while loop.**\n",
        "\n",
        "\n",
        "\n",
        "---\n",
        "\n"
      ],
      "metadata": {
        "id": "WyMmG79UqZTx"
      }
    },
    {
      "cell_type": "code",
      "source": [
        "i = 2\n",
        "while i <= 20:\n",
        "  print(i)\n",
        "  i += 2"
      ],
      "metadata": {
        "colab": {
          "base_uri": "https://localhost:8080/"
        },
        "id": "pDTMKvsHqqaB",
        "outputId": "fc7b9994-f26b-4df6-9462-74277064594c"
      },
      "execution_count": 53,
      "outputs": [
        {
          "output_type": "stream",
          "name": "stdout",
          "text": [
            "2\n",
            "4\n",
            "6\n",
            "8\n",
            "10\n",
            "12\n",
            "14\n",
            "16\n",
            "18\n",
            "20\n"
          ]
        }
      ]
    },
    {
      "cell_type": "markdown",
      "source": [
        "**3.Sum of first 50 numbers (1+2+3+...+50) using a loop.**"
      ],
      "metadata": {
        "id": "t3AhAanKrz_M"
      }
    },
    {
      "cell_type": "code",
      "source": [
        "total = 0\n",
        "for i in range(1, 51):\n",
        "    total += i\n",
        "print(\"Sum:\", total)\n"
      ],
      "metadata": {
        "colab": {
          "base_uri": "https://localhost:8080/"
        },
        "id": "JJ9IFtp-r3MC",
        "outputId": "a904f55a-03e2-41f1-898b-f8de936369c0"
      },
      "execution_count": 57,
      "outputs": [
        {
          "output_type": "stream",
          "name": "stdout",
          "text": [
            "Sum: 1275\n"
          ]
        }
      ]
    },
    {
      "cell_type": "markdown",
      "source": [
        "**4.Count backwards from 10 to 1 using a loop.**\n",
        "\n"
      ],
      "metadata": {
        "id": "exxS5dkptS83"
      }
    },
    {
      "cell_type": "code",
      "source": [
        "for i in range(10,0,-1):\n",
        " print(i)"
      ],
      "metadata": {
        "colab": {
          "base_uri": "https://localhost:8080/"
        },
        "id": "uj0riOEQtXdR",
        "outputId": "ad2f0847-7514-4a82-e3f6-e31ad8b340a0"
      },
      "execution_count": 59,
      "outputs": [
        {
          "output_type": "stream",
          "name": "stdout",
          "text": [
            "10\n",
            "9\n",
            "8\n",
            "7\n",
            "6\n",
            "5\n",
            "4\n",
            "3\n",
            "2\n",
            "1\n"
          ]
        }
      ]
    },
    {
      "cell_type": "markdown",
      "source": [
        "**5.Print all numbers divisible by 3 from 1 to 50.**"
      ],
      "metadata": {
        "id": "sDSxlvd2t-l0"
      }
    },
    {
      "cell_type": "code",
      "source": [
        "for i in range(1,51):\n",
        "  if i % 3 == 0:\n",
        "    print(i)\n",
        "\n"
      ],
      "metadata": {
        "colab": {
          "base_uri": "https://localhost:8080/"
        },
        "id": "rLYFxL31uBTL",
        "outputId": "66c13164-2af9-4916-c673-608052b61f5a"
      },
      "execution_count": 60,
      "outputs": [
        {
          "output_type": "stream",
          "name": "stdout",
          "text": [
            "3\n",
            "6\n",
            "9\n",
            "12\n",
            "15\n",
            "18\n",
            "21\n",
            "24\n",
            "27\n",
            "30\n",
            "33\n",
            "36\n",
            "39\n",
            "42\n",
            "45\n",
            "48\n"
          ]
        }
      ]
    },
    {
      "cell_type": "markdown",
      "source": [
        "**6.Ask the user for a number and print whether it is prime or not.**"
      ],
      "metadata": {
        "id": "azW6XwI4usLe"
      }
    },
    {
      "cell_type": "code",
      "source": [
        "a = int(input('Enter a number'))\n",
        "if a > 5:\n",
        "  print('it is a prime number')\n",
        "else:\n",
        "    print('it is not a prime number')"
      ],
      "metadata": {
        "colab": {
          "base_uri": "https://localhost:8080/"
        },
        "id": "xCuDdMEauwH0",
        "outputId": "30550100-6a33-4ebd-a138-1617daf16e61"
      },
      "execution_count": 61,
      "outputs": [
        {
          "output_type": "stream",
          "name": "stdout",
          "text": [
            "Enter a number7\n",
            "it is a prime number\n"
          ]
        }
      ]
    },
    {
      "cell_type": "markdown",
      "source": [
        "**7.Print all numbers from 1 to 100 but skip numbers divisible by 5.**"
      ],
      "metadata": {
        "id": "Tyxu_pP-weim"
      }
    },
    {
      "cell_type": "code",
      "source": [
        "for i in range(1,101):\n",
        "  if i % 5 == 0:\n",
        "   continue\n",
        "  print(i)\n"
      ],
      "metadata": {
        "colab": {
          "base_uri": "https://localhost:8080/"
        },
        "id": "QXy-kpVowpGo",
        "outputId": "6c279043-35d0-4433-a6af-5f550ad67d85"
      },
      "execution_count": 65,
      "outputs": [
        {
          "output_type": "stream",
          "name": "stdout",
          "text": [
            "1\n",
            "2\n",
            "3\n",
            "4\n",
            "6\n",
            "7\n",
            "8\n",
            "9\n",
            "11\n",
            "12\n",
            "13\n",
            "14\n",
            "16\n",
            "17\n",
            "18\n",
            "19\n",
            "21\n",
            "22\n",
            "23\n",
            "24\n",
            "26\n",
            "27\n",
            "28\n",
            "29\n",
            "31\n",
            "32\n",
            "33\n",
            "34\n",
            "36\n",
            "37\n",
            "38\n",
            "39\n",
            "41\n",
            "42\n",
            "43\n",
            "44\n",
            "46\n",
            "47\n",
            "48\n",
            "49\n",
            "51\n",
            "52\n",
            "53\n",
            "54\n",
            "56\n",
            "57\n",
            "58\n",
            "59\n",
            "61\n",
            "62\n",
            "63\n",
            "64\n",
            "66\n",
            "67\n",
            "68\n",
            "69\n",
            "71\n",
            "72\n",
            "73\n",
            "74\n",
            "76\n",
            "77\n",
            "78\n",
            "79\n",
            "81\n",
            "82\n",
            "83\n",
            "84\n",
            "86\n",
            "87\n",
            "88\n",
            "89\n",
            "91\n",
            "92\n",
            "93\n",
            "94\n",
            "96\n",
            "97\n",
            "98\n",
            "99\n"
          ]
        }
      ]
    },
    {
      "cell_type": "markdown",
      "source": [
        "**8.Print the following pattern:**\n",
        "*\n",
        "* *\n",
        "* * *\n",
        "* * * *\n",
        "* * * * *\n",
        "\n",
        "\n",
        "\n",
        "\n"
      ],
      "metadata": {
        "id": "epT5QyFqy38x"
      }
    },
    {
      "cell_type": "code",
      "source": [
        "for i in range(1,6):\n",
        "  print(\"*\" * i)\n",
        ""
      ],
      "metadata": {
        "colab": {
          "base_uri": "https://localhost:8080/"
        },
        "id": "g7mZBejzzDeg",
        "outputId": "c0202738-e4b0-413d-a07c-92dfbf42d94f"
      },
      "execution_count": 8,
      "outputs": [
        {
          "output_type": "stream",
          "name": "stdout",
          "text": [
            "*\n",
            "**\n",
            "***\n",
            "****\n",
            "*****\n"
          ]
        }
      ]
    },
    {
      "cell_type": "markdown",
      "source": [
        "9.Print 1 to 7 numbers usi"
      ],
      "metadata": {
        "id": "pFK2ZHZae5dY"
      }
    },
    {
      "cell_type": "code",
      "source": [
        "for i in range(1,8):\n",
        "  print(i)"
      ],
      "metadata": {
        "colab": {
          "base_uri": "https://localhost:8080/"
        },
        "id": "ZzfOKBmeU4e0",
        "outputId": "80bc384f-9969-473a-f729-e87930b8c993"
      },
      "execution_count": 6,
      "outputs": [
        {
          "output_type": "stream",
          "name": "stdout",
          "text": [
            "1\n",
            "2\n",
            "3\n",
            "4\n",
            "5\n",
            "6\n",
            "7\n"
          ]
        }
      ]
    },
    {
      "cell_type": "markdown",
      "source": [
        "**10.Print numbers from 1 to 20 but skip multiples of 4.**"
      ],
      "metadata": {
        "id": "bSK3F4LPZ4X_"
      }
    },
    {
      "cell_type": "code",
      "source": [
        "i = 0\n",
        "while i < 20:\n",
        "    i += 1\n",
        "    if i % 4 == 0:\n",
        "        continue\n",
        "    print(i)"
      ],
      "metadata": {
        "colab": {
          "base_uri": "https://localhost:8080/"
        },
        "id": "P-YMvQqYZ-Ib",
        "outputId": "95013abf-646b-407f-b0f1-5ed3ab87f2c3"
      },
      "execution_count": 16,
      "outputs": [
        {
          "output_type": "stream",
          "name": "stdout",
          "text": [
            "1\n",
            "2\n",
            "3\n",
            "5\n",
            "6\n",
            "7\n",
            "9\n",
            "10\n",
            "11\n",
            "13\n",
            "14\n",
            "15\n",
            "17\n",
            "18\n",
            "19\n"
          ]
        }
      ]
    }
  ]
}