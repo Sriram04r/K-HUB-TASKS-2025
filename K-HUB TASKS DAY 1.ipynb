{
  "nbformat": 4,
  "nbformat_minor": 0,
  "metadata": {
    "colab": {
      "provenance": []
    },
    "kernelspec": {
      "name": "python3",
      "display_name": "Python 3"
    },
    "language_info": {
      "name": "python"
    }
  },
  "cells": [
    {
      "cell_type": "markdown",
      "source": [
        "# **DAY 1**"
      ],
      "metadata": {
        "id": "aDflqb2RF2NO"
      }
    },
    {
      "cell_type": "markdown",
      "source": [
        "# **STRINGS**"
      ],
      "metadata": {
        "id": "kYIAq5uvGAm6"
      }
    },
    {
      "cell_type": "markdown",
      "source": [
        "Strings is a collection of characters and is denoted by single quotes and double quotes triple quotes."
      ],
      "metadata": {
        "id": "oenCow4QGGKs"
      }
    },
    {
      "cell_type": "code",
      "source": [
        "print('Hello')\n",
        "print(\"python\")\n",
        "print('''khub''')"
      ],
      "metadata": {
        "colab": {
          "base_uri": "https://localhost:8080/"
        },
        "id": "Bz-2LcvbGeiO",
        "outputId": "8d3ba7ac-8211-43e4-af8e-28fe06a4ba2c"
      },
      "execution_count": 37,
      "outputs": [
        {
          "output_type": "stream",
          "name": "stdout",
          "text": [
            "Hello\n",
            "python\n",
            "khub\n"
          ]
        }
      ]
    },
    {
      "cell_type": "markdown",
      "source": [
        "# ASIGN STRING TO VARIABLE"
      ],
      "metadata": {
        "id": "V_uMHWl9Hv4s"
      }
    },
    {
      "cell_type": "code",
      "source": [
        "a = ('''Team 8 ''')\n",
        "print(a)"
      ],
      "metadata": {
        "colab": {
          "base_uri": "https://localhost:8080/"
        },
        "id": "C0wgJwHeOdpN",
        "outputId": "8d2441d4-2575-49cb-8150-0e9b432b447e"
      },
      "execution_count": 38,
      "outputs": [
        {
          "output_type": "stream",
          "name": "stdout",
          "text": [
            "Team 8 \n"
          ]
        }
      ]
    },
    {
      "cell_type": "code",
      "source": [
        "a = (\"This is my class\")\n",
        "b = a\n",
        "print(b)"
      ],
      "metadata": {
        "colab": {
          "base_uri": "https://localhost:8080/"
        },
        "id": "IACuUMdFIHiz",
        "outputId": "8f421735-43d4-4246-b064-41b0ea395cf7"
      },
      "execution_count": 39,
      "outputs": [
        {
          "output_type": "stream",
          "name": "stdout",
          "text": [
            "This is my class\n"
          ]
        }
      ]
    },
    {
      "cell_type": "markdown",
      "source": [
        "# MULTILINE **STRINGS**"
      ],
      "metadata": {
        "id": "l7O3XL_IIdif"
      }
    },
    {
      "cell_type": "markdown",
      "source": [
        "WE can use three double quotes or three single quotes"
      ],
      "metadata": {
        "id": "OxsyoY7vK3gG"
      }
    },
    {
      "cell_type": "code",
      "source": [
        "a = '''Today is friendship day ,\n",
        "       I wish my friends ,\n",
        "       \"Happy Friendship Day\"'''\n",
        "print(a)"
      ],
      "metadata": {
        "colab": {
          "base_uri": "https://localhost:8080/"
        },
        "id": "dL81zTCnLASa",
        "outputId": "7cfd3385-482b-482e-a8e0-baa1ce3aee39"
      },
      "execution_count": 40,
      "outputs": [
        {
          "output_type": "stream",
          "name": "stdout",
          "text": [
            "Today is friendship day ,\n",
            "       I wish my friends ,\n",
            "       \"Happy Friendship Day\"\n"
          ]
        }
      ]
    },
    {
      "cell_type": "markdown",
      "source": [],
      "metadata": {
        "id": "_jbxtvHGL3eY"
      }
    },
    {
      "cell_type": "markdown",
      "source": [
        "# STRING **LENGTH**"
      ],
      "metadata": {
        "id": "xLRGggHoNSqG"
      }
    },
    {
      "cell_type": "markdown",
      "source": [
        "We can find length of string we use len() function.It will find length of a string."
      ],
      "metadata": {
        "id": "91AWO1qPNbDi"
      }
    },
    {
      "cell_type": "code",
      "source": [
        "a = 'Hello I am a Junior Developer'\n",
        "print(len(a))"
      ],
      "metadata": {
        "colab": {
          "base_uri": "https://localhost:8080/"
        },
        "id": "xrz1ThLuNyiY",
        "outputId": "492c128c-fc83-46e3-d7c1-93dfd89fd227"
      },
      "execution_count": 41,
      "outputs": [
        {
          "output_type": "stream",
          "name": "stdout",
          "text": [
            "29\n"
          ]
        }
      ]
    },
    {
      "cell_type": "code",
      "source": [
        "a = \"\"\"I have selected in Robotics,\n",
        "But i didn't go to Robotics.\"\"\"\n",
        "print(len(a))"
      ],
      "metadata": {
        "colab": {
          "base_uri": "https://localhost:8080/"
        },
        "id": "FisfIGV7P85E",
        "outputId": "21a6ccee-63ac-4de6-bc8e-f844909a3ced"
      },
      "execution_count": 42,
      "outputs": [
        {
          "output_type": "stream",
          "name": "stdout",
          "text": [
            "57\n"
          ]
        }
      ]
    },
    {
      "cell_type": "markdown",
      "source": [
        "# CHECK STRING"
      ],
      "metadata": {
        "id": "wFJTZ5kgQqmw"
      }
    },
    {
      "cell_type": "code",
      "source": [
        "text = \"I am a student\"\n",
        "print(\"a\" in text)\n"
      ],
      "metadata": {
        "colab": {
          "base_uri": "https://localhost:8080/"
        },
        "id": "KMxlEqHQQtvL",
        "outputId": "51f21431-4538-4db6-908d-5861d4365ab8"
      },
      "execution_count": 43,
      "outputs": [
        {
          "output_type": "stream",
          "name": "stdout",
          "text": [
            "True\n"
          ]
        }
      ]
    },
    {
      "cell_type": "code",
      "source": [
        "hi = \"my name is sriram\"\n",
        "print(\"raju\" in hi)"
      ],
      "metadata": {
        "colab": {
          "base_uri": "https://localhost:8080/"
        },
        "id": "zqSOuEjsREwU",
        "outputId": "0fabfe73-5646-4061-bcd6-13b8ee682ee7"
      },
      "execution_count": 44,
      "outputs": [
        {
          "output_type": "stream",
          "name": "stdout",
          "text": [
            "False\n"
          ]
        }
      ]
    },
    {
      "cell_type": "markdown",
      "source": [
        "we have to use if statement to check the string"
      ],
      "metadata": {
        "id": "IxYNAUNuRcC9"
      }
    },
    {
      "cell_type": "code",
      "source": [
        "txt = \"CSM DAYSCHOLARS\"\n",
        "if \"DAYSCHOLARS\" in txt:\n",
        "    print(\"Yes\")"
      ],
      "metadata": {
        "colab": {
          "base_uri": "https://localhost:8080/"
        },
        "id": "ZYfcfNTERj_l",
        "outputId": "edc58c9c-de97-44a2-f368-22215719bfe0"
      },
      "execution_count": 45,
      "outputs": [
        {
          "output_type": "stream",
          "name": "stdout",
          "text": [
            "Yes\n"
          ]
        }
      ]
    },
    {
      "cell_type": "markdown",
      "source": [
        "we can also use if else statement"
      ],
      "metadata": {
        "id": "isUvytd5StWF"
      }
    },
    {
      "cell_type": "code",
      "source": [
        "hi = \"Shithu is a good girl\"\n",
        "if \"Shithu\" in hi:\n",
        "  print(\"Good\")\n",
        "else:\n",
        "  print('Bad')"
      ],
      "metadata": {
        "colab": {
          "base_uri": "https://localhost:8080/"
        },
        "id": "p8NpaCyaS0bE",
        "outputId": "03379517-1755-4117-b5b8-893225db288c"
      },
      "execution_count": 46,
      "outputs": [
        {
          "output_type": "stream",
          "name": "stdout",
          "text": [
            "Good\n"
          ]
        }
      ]
    },
    {
      "cell_type": "markdown",
      "source": [
        "use not in keyword"
      ],
      "metadata": {
        "id": "v1PGypzFUZTm"
      }
    },
    {
      "cell_type": "code",
      "source": [
        "txt = \"hi\"\n",
        "print(\"hello\" not in txt)"
      ],
      "metadata": {
        "colab": {
          "base_uri": "https://localhost:8080/"
        },
        "id": "vTk1wcpiUfvl",
        "outputId": "e3f7ed61-07ea-4fa0-c606-6e7dc3daef74"
      },
      "execution_count": 47,
      "outputs": [
        {
          "output_type": "stream",
          "name": "stdout",
          "text": [
            "True\n"
          ]
        }
      ]
    },
    {
      "cell_type": "markdown",
      "source": [
        "# SLICING STRINGS"
      ],
      "metadata": {
        "id": "yvnFPpFhVKyt"
      }
    },
    {
      "cell_type": "markdown",
      "source": [
        "You can return a range of characters by using the slice syntax.It specifies starting and ending index and is seperated by a colon."
      ],
      "metadata": {
        "id": "WVSRzn8kVQQf"
      }
    },
    {
      "cell_type": "code",
      "source": [
        "hello = \"Hi coders\"\n",
        "print(hello[3:8])"
      ],
      "metadata": {
        "colab": {
          "base_uri": "https://localhost:8080/"
        },
        "id": "8MbZnjbDVxrP",
        "outputId": "ac3629d0-43e6-4cf3-edff-7c240c5fa306"
      },
      "execution_count": 48,
      "outputs": [
        {
          "output_type": "stream",
          "name": "stdout",
          "text": [
            "coder\n"
          ]
        }
      ]
    },
    {
      "cell_type": "markdown",
      "source": [
        "**sicing from the first**"
      ],
      "metadata": {
        "id": "ZAoTonCoXL43"
      }
    },
    {
      "cell_type": "code",
      "source": [
        "a = 'Hello guys'\n",
        "print(a[:5])"
      ],
      "metadata": {
        "colab": {
          "base_uri": "https://localhost:8080/"
        },
        "id": "oFaEbYAlXWx3",
        "outputId": "c47c2d4a-5023-4fce-d745-b948e36fa4f1"
      },
      "execution_count": 49,
      "outputs": [
        {
          "output_type": "stream",
          "name": "stdout",
          "text": [
            "Hello\n"
          ]
        }
      ]
    },
    {
      "cell_type": "code",
      "source": [
        "a = 'Hello guys'\n",
        "print(a[:11])"
      ],
      "metadata": {
        "colab": {
          "base_uri": "https://localhost:8080/"
        },
        "id": "Ew69KbIlXt2n",
        "outputId": "d1e8b294-0903-4e05-c82c-5def8079e6ff"
      },
      "execution_count": 50,
      "outputs": [
        {
          "output_type": "stream",
          "name": "stdout",
          "text": [
            "Hello guys\n"
          ]
        }
      ]
    },
    {
      "cell_type": "markdown",
      "source": [
        "**slice to end**"
      ],
      "metadata": {
        "id": "OsEEMLgOX26t"
      }
    },
    {
      "cell_type": "code",
      "source": [
        "txt = \"CSM DAYSCHOLARS\"\n",
        "print(txt[4:])"
      ],
      "metadata": {
        "colab": {
          "base_uri": "https://localhost:8080/"
        },
        "id": "SDHww9QtX8Yl",
        "outputId": "a060328e-347f-41fd-8f26-e2a9bd8a30a0"
      },
      "execution_count": 51,
      "outputs": [
        {
          "output_type": "stream",
          "name": "stdout",
          "text": [
            "DAYSCHOLARS\n"
          ]
        }
      ]
    },
    {
      "cell_type": "code",
      "source": [
        "a = 'Hello I am a Junior Developer'\n",
        "print(a[6:])"
      ],
      "metadata": {
        "colab": {
          "base_uri": "https://localhost:8080/"
        },
        "id": "Mw1H_m-4YXMd",
        "outputId": "dca27ce4-359c-4192-cd5f-d0f0e998f635"
      },
      "execution_count": 52,
      "outputs": [
        {
          "output_type": "stream",
          "name": "stdout",
          "text": [
            "I am a Junior Developer\n"
          ]
        }
      ]
    },
    {
      "cell_type": "markdown",
      "source": [
        "**Negative Indexing**"
      ],
      "metadata": {
        "id": "k-psl0q4Y8II"
      }
    },
    {
      "cell_type": "code",
      "source": [
        "text = \"I am a student\"\n",
        "print(text[-7:])"
      ],
      "metadata": {
        "colab": {
          "base_uri": "https://localhost:8080/"
        },
        "id": "IRnQFdQhZHAI",
        "outputId": "fda69d8e-1102-4e11-ed45-3cde248167b0"
      },
      "execution_count": 53,
      "outputs": [
        {
          "output_type": "stream",
          "name": "stdout",
          "text": [
            "student\n"
          ]
        }
      ]
    },
    {
      "cell_type": "markdown",
      "source": [
        "# MODIFICATION OF STRINGS"
      ],
      "metadata": {
        "id": "nuSNJirBcW33"
      }
    },
    {
      "cell_type": "markdown",
      "source": [
        "**UPPER** **CASE**"
      ],
      "metadata": {
        "id": "oBwV94TDccs9"
      }
    },
    {
      "cell_type": "markdown",
      "source": [
        "The function upper() is to captalise the total string"
      ],
      "metadata": {
        "id": "jxNukElOclkA"
      }
    },
    {
      "cell_type": "code",
      "source": [
        "a = \"sriram\"\n",
        "print(a.upper())"
      ],
      "metadata": {
        "colab": {
          "base_uri": "https://localhost:8080/"
        },
        "id": "2yh0e-uiczb7",
        "outputId": "3bad7d04-459c-45ac-e13d-766ea45406ff"
      },
      "execution_count": 54,
      "outputs": [
        {
          "output_type": "stream",
          "name": "stdout",
          "text": [
            "SRIRAM\n"
          ]
        }
      ]
    },
    {
      "cell_type": "markdown",
      "source": [
        "**LOWER CASE**"
      ],
      "metadata": {
        "id": "6IfKyAN7dEjr"
      }
    },
    {
      "cell_type": "markdown",
      "source": [
        "The lower() function is used to change the string into lower case letters"
      ],
      "metadata": {
        "id": "W6reQN46dIAt"
      }
    },
    {
      "cell_type": "code",
      "source": [
        "a = \"I AM A BANK EMPLOYEE\"\n",
        "print(a.lower())"
      ],
      "metadata": {
        "colab": {
          "base_uri": "https://localhost:8080/"
        },
        "id": "AF7sGWnxdhhD",
        "outputId": "1c7b7eb9-3ff7-41bc-9d1c-b0a90987b00d"
      },
      "execution_count": 55,
      "outputs": [
        {
          "output_type": "stream",
          "name": "stdout",
          "text": [
            "i am a bank employee\n"
          ]
        }
      ]
    },
    {
      "cell_type": "markdown",
      "source": [
        "**REMOVE WHITESPACE**"
      ],
      "metadata": {
        "id": "hsFAVe4MeFU6"
      }
    },
    {
      "cell_type": "markdown",
      "source": [
        "we have to remove whitespaces from starting or ending of the index the split() function is used."
      ],
      "metadata": {
        "id": "tiYChcate4w6"
      }
    },
    {
      "cell_type": "code",
      "source": [
        "a = ' Free Fire '\n",
        "print(a.strip())"
      ],
      "metadata": {
        "colab": {
          "base_uri": "https://localhost:8080/"
        },
        "id": "FbUI3BxCfF00",
        "outputId": "017f2780-f395-408a-ab1d-43177243421c"
      },
      "execution_count": 56,
      "outputs": [
        {
          "output_type": "stream",
          "name": "stdout",
          "text": [
            "Free Fire\n"
          ]
        }
      ]
    },
    {
      "cell_type": "markdown",
      "source": [
        "**REPALCE METHOD**"
      ],
      "metadata": {
        "id": "avqHvvB8fhwQ"
      }
    },
    {
      "cell_type": "markdown",
      "source": [
        "The use replace() function is to replace one word with another."
      ],
      "metadata": {
        "id": "A4zS6yO7fmzU"
      }
    },
    {
      "cell_type": "code",
      "source": [
        "txt = \"CSM DAYSCHOLARS\"\n",
        "print(txt.replace(\"DAYSCHOLARS\",\"HOSTLERS\"))"
      ],
      "metadata": {
        "colab": {
          "base_uri": "https://localhost:8080/"
        },
        "id": "uLnN5IR8fxoU",
        "outputId": "e5541d20-a0da-4ba8-9c64-862ad56c97f5"
      },
      "execution_count": 57,
      "outputs": [
        {
          "output_type": "stream",
          "name": "stdout",
          "text": [
            "CSM HOSTLERS\n"
          ]
        }
      ]
    },
    {
      "cell_type": "markdown",
      "source": [
        "**SPLIT METHOD**"
      ],
      "metadata": {
        "id": "9Lvvy6oFgQrt"
      }
    },
    {
      "cell_type": "markdown",
      "source": [
        "The splitting of one word into two words.we can use split() function."
      ],
      "metadata": {
        "id": "5Am9XRXEgVGv"
      }
    },
    {
      "cell_type": "code",
      "source": [
        "a = 'Free Fire'\n",
        "print(a.split())"
      ],
      "metadata": {
        "colab": {
          "base_uri": "https://localhost:8080/"
        },
        "id": "fEw6s6twgjy6",
        "outputId": "141fcf60-96ee-410d-867e-6e9c85f2a502"
      },
      "execution_count": 58,
      "outputs": [
        {
          "output_type": "stream",
          "name": "stdout",
          "text": [
            "['Free', 'Fire']\n"
          ]
        }
      ]
    },
    {
      "cell_type": "markdown",
      "source": [
        "# STRING CONCATENATION"
      ],
      "metadata": {
        "id": "ZhJTQ5HWhhYy"
      }
    },
    {
      "cell_type": "markdown",
      "source": [
        "String concatenation means we can merge the two strings."
      ],
      "metadata": {
        "id": "uyxf0YtvhmQC"
      }
    },
    {
      "cell_type": "code",
      "source": [
        "input = \"Hello\"\n",
        "output = 'World!'\n",
        "Result = input+output\n",
        "print(\"Result\")"
      ],
      "metadata": {
        "colab": {
          "base_uri": "https://localhost:8080/"
        },
        "id": "kMJ_lagchwWi",
        "outputId": "5f066728-cd86-4ec3-a359-dac13292f63b"
      },
      "execution_count": 59,
      "outputs": [
        {
          "output_type": "stream",
          "name": "stdout",
          "text": [
            "Result\n"
          ]
        }
      ]
    },
    {
      "cell_type": "markdown",
      "source": [
        "Another example for merge the two strings."
      ],
      "metadata": {
        "id": "Pw_6Ct1RiKpR"
      }
    },
    {
      "cell_type": "code",
      "source": [
        "R = \"Ram\"\n",
        "S = \"Shithu\"\n",
        "RS = R + \" \" + S\n",
        "print(RS)"
      ],
      "metadata": {
        "colab": {
          "base_uri": "https://localhost:8080/"
        },
        "id": "l1XgP0Wvic5v",
        "outputId": "b5c1e2c7-34e3-4f94-b56e-e78dd1d9a753"
      },
      "execution_count": 60,
      "outputs": [
        {
          "output_type": "stream",
          "name": "stdout",
          "text": [
            "Ram Shithu\n"
          ]
        }
      ]
    },
    {
      "cell_type": "markdown",
      "source": [
        "# STRING FORMATS"
      ],
      "metadata": {
        "id": "zqWe_dR4lZmx"
      }
    },
    {
      "cell_type": "markdown",
      "source": [
        "**F-STRING**"
      ],
      "metadata": {
        "id": "14oV5YacldYh"
      }
    },
    {
      "cell_type": "markdown",
      "source": [
        "To specify a string as an f-string, simply put an f in front of the string literal, and add curly brackets {} as placeholders for variables and other operations.\n",
        "\n"
      ],
      "metadata": {
        "id": "po3Xdhh1l0cw"
      }
    },
    {
      "cell_type": "code",
      "source": [
        "grade = 'A'\n",
        "txt = f\"My semister grade is {grade} \"\n",
        "print(txt)"
      ],
      "metadata": {
        "colab": {
          "base_uri": "https://localhost:8080/"
        },
        "id": "g3XfWixul14z",
        "outputId": "754c617c-90b8-4e18-81e9-bc642ab0d0ae"
      },
      "execution_count": 61,
      "outputs": [
        {
          "output_type": "stream",
          "name": "stdout",
          "text": [
            "My semister grade is A \n"
          ]
        }
      ]
    },
    {
      "cell_type": "code",
      "source": [
        "percentage = 98\n",
        "txt = f\"I scored {percentage}% in 2nd year\"\n",
        "print(txt)"
      ],
      "metadata": {
        "colab": {
          "base_uri": "https://localhost:8080/"
        },
        "id": "TEUfG4WininG",
        "outputId": "ca941f09-e2f1-4a99-f7ac-a8b93bba914b"
      },
      "execution_count": 62,
      "outputs": [
        {
          "output_type": "stream",
          "name": "stdout",
          "text": [
            "I scored 98% in 2nd year\n"
          ]
        }
      ]
    },
    {
      "cell_type": "code",
      "source": [
        "price = 1000\n",
        "Quantity = f\"The price of rice bag is {price} rupees\"\n",
        "print(Quantity)"
      ],
      "metadata": {
        "colab": {
          "base_uri": "https://localhost:8080/"
        },
        "id": "W4b85291oGMQ",
        "outputId": "65a1fd49-bbb2-4ffe-ca2f-1b31e48d2cc6"
      },
      "execution_count": 63,
      "outputs": [
        {
          "output_type": "stream",
          "name": "stdout",
          "text": [
            "The price of rice bag is 1000 rupees\n"
          ]
        }
      ]
    },
    {
      "cell_type": "code",
      "source": [
        "cost = 24\n",
        "Quality = f\"The best Quality than best {cost:.2f}\"\n",
        "print(Quality)"
      ],
      "metadata": {
        "colab": {
          "base_uri": "https://localhost:8080/"
        },
        "id": "2dSZjC5Zo4Eb",
        "outputId": "49048d53-7707-45be-badc-b34a30829d98"
      },
      "execution_count": 64,
      "outputs": [
        {
          "output_type": "stream",
          "name": "stdout",
          "text": [
            "The best Quality than best 24.00\n"
          ]
        }
      ]
    },
    {
      "cell_type": "code",
      "source": [
        "text = f\"The few bags of rice is {23 * 23} rupees\"\n",
        "print(text)"
      ],
      "metadata": {
        "colab": {
          "base_uri": "https://localhost:8080/"
        },
        "id": "7OeIgbXFpquE",
        "outputId": "ba4d5700-af2f-4716-9bd9-be509d17a6f6"
      },
      "execution_count": 65,
      "outputs": [
        {
          "output_type": "stream",
          "name": "stdout",
          "text": [
            "The few bags of rice is 529 rupees\n"
          ]
        }
      ]
    },
    {
      "cell_type": "markdown",
      "source": [
        "# PYTHON BOOLEAN"
      ],
      "metadata": {
        "id": "-w8NcmXYC60W"
      }
    },
    {
      "cell_type": "markdown",
      "source": [
        "In python boolean there is either 1 or 0 are defined or True or False."
      ],
      "metadata": {
        "id": "aIYq5SYdDAvr"
      }
    },
    {
      "cell_type": "code",
      "source": [
        "print(10>9)\n",
        "print(10==10)\n",
        "print(2<0)\n",
        "print(2!=5)"
      ],
      "metadata": {
        "colab": {
          "base_uri": "https://localhost:8080/"
        },
        "id": "KF1O2R3lDS9C",
        "outputId": "abfe3bcc-2417-4ca4-c3eb-4432fcb42604"
      },
      "execution_count": 66,
      "outputs": [
        {
          "output_type": "stream",
          "name": "stdout",
          "text": [
            "True\n",
            "True\n",
            "False\n",
            "True\n"
          ]
        }
      ]
    },
    {
      "cell_type": "markdown",
      "source": [
        "Now we can write boolean expressin in if statement."
      ],
      "metadata": {
        "id": "DDiQYSqhDw5x"
      }
    },
    {
      "cell_type": "code",
      "source": [
        "a = 50\n",
        "b = 25\n",
        "if b > a:\n",
        "  print(\"True\")\n",
        "else:\n",
        "  print(\"false\")"
      ],
      "metadata": {
        "colab": {
          "base_uri": "https://localhost:8080/"
        },
        "id": "LSlnI2A4D3yL",
        "outputId": "23c58e9d-ae2c-43aa-e4a7-1fd81b8f28c8"
      },
      "execution_count": 67,
      "outputs": [
        {
          "output_type": "stream",
          "name": "stdout",
          "text": [
            "false\n"
          ]
        }
      ]
    },
    {
      "cell_type": "markdown",
      "source": [
        "# OPERATORS"
      ],
      "metadata": {
        "id": "ZlXCbLP6HDiu"
      }
    },
    {
      "cell_type": "markdown",
      "source": [
        "Operators are used to perform operations on variables and values.There are several types of operators performs specific tasks based on conditions.\n",
        "\n"
      ],
      "metadata": {
        "id": "vqi2ac0_HGlg"
      }
    },
    {
      "cell_type": "code",
      "source": [
        "a = 2\n",
        "b = 2\n",
        "c = a + b\n",
        "print(c)"
      ],
      "metadata": {
        "id": "MKcV_S4CHcuj",
        "outputId": "a0d791e0-9eab-419c-da52-5da58d15e581",
        "colab": {
          "base_uri": "https://localhost:8080/"
        }
      },
      "execution_count": 68,
      "outputs": [
        {
          "output_type": "stream",
          "name": "stdout",
          "text": [
            "4\n"
          ]
        }
      ]
    },
    {
      "cell_type": "markdown",
      "source": [
        "**ARTHMETIC OPERATORS**"
      ],
      "metadata": {
        "id": "FyWI5FtcH_nC"
      }
    },
    {
      "cell_type": "markdown",
      "source": [
        "In Arthmetic operators are of many types.like addition,subtraction,multiplication,etc...."
      ],
      "metadata": {
        "id": "Xgz4fPmSIElm"
      }
    },
    {
      "cell_type": "code",
      "source": [
        "a = 5\n",
        "b = 2\n",
        "c = a + b\n",
        "d = a - b\n",
        "e = a * b\n",
        "f = a / b\n",
        "g = a % b\n",
        "h = a ** b\n",
        "i = a // b\n",
        "print(c)\n",
        "print(d)\n",
        "print(e)\n",
        "print(f)\n",
        "print(g)\n",
        "print(h)\n",
        "print(i)"
      ],
      "metadata": {
        "id": "3FEWbQiIIUcm",
        "outputId": "77934355-f61b-4309-82eb-632ffaae1807",
        "colab": {
          "base_uri": "https://localhost:8080/"
        }
      },
      "execution_count": 69,
      "outputs": [
        {
          "output_type": "stream",
          "name": "stdout",
          "text": [
            "7\n",
            "3\n",
            "10\n",
            "2.5\n",
            "1\n",
            "25\n",
            "2\n"
          ]
        }
      ]
    },
    {
      "cell_type": "markdown",
      "source": [
        "**ASSIGNMENT** **OPERATORS**"
      ],
      "metadata": {
        "id": "RTwtHNCnJJst"
      }
    },
    {
      "cell_type": "markdown",
      "source": [
        "Assignment operators are used to assign values to variables."
      ],
      "metadata": {
        "id": "iCkZXz7AJP8r"
      }
    },
    {
      "cell_type": "code",
      "source": [
        "a = 10\n",
        "a += 5\n",
        "print(a)\n",
        "\n",
        "a -= 3\n",
        "print(a)\n",
        "\n",
        "\n",
        "a *= 2\n",
        "print(a)\n",
        "\n",
        "a /= 4\n",
        "print(a)\n",
        "\n",
        "a //= 2\n",
        "print(a)\n",
        "\n",
        "a %= 2\n",
        "print(a)\n",
        "\n",
        "a = 2\n",
        "a **= 3\n",
        "print(a)\n",
        "\n",
        "a = 8\n",
        "a <<= 1\n",
        "print(a)\n",
        "\n",
        "a >>= 2\n",
        "print(a)\n",
        "\n",
        "a = 5\n",
        "a = 3\n",
        "print(a)\n",
        "\n",
        "a ^= 3\n",
        "print(a)\n",
        "\n",
        "a |= 3\n",
        "print(a)\n",
        "\n"
      ],
      "metadata": {
        "id": "BM7liTJeJWB8",
        "outputId": "fc161145-7065-4ea8-c979-efebd9fd026c",
        "colab": {
          "base_uri": "https://localhost:8080/"
        }
      },
      "execution_count": 70,
      "outputs": [
        {
          "output_type": "stream",
          "name": "stdout",
          "text": [
            "15\n",
            "12\n",
            "24\n",
            "6.0\n",
            "3.0\n",
            "1.0\n",
            "8\n",
            "16\n",
            "4\n",
            "3\n",
            "0\n",
            "3\n"
          ]
        }
      ]
    },
    {
      "cell_type": "markdown",
      "source": [
        "**COMPARISION** **OPERATORS**"
      ],
      "metadata": {
        "id": "yEt4f6H2Lz5t"
      }
    },
    {
      "cell_type": "markdown",
      "source": [
        "Comparison operators are used to compare two values."
      ],
      "metadata": {
        "id": "-c5jrehaL5Uz"
      }
    },
    {
      "cell_type": "code",
      "source": [
        "a = 5\n",
        "b = 3\n",
        "\n",
        "print(a == b)\n",
        "print(a != b)\n",
        "print(a > b)\n",
        "print(a < b)\n",
        "print(a >= b)\n",
        "print(a <= b)\n",
        "\n"
      ],
      "metadata": {
        "id": "vdMI3ioAL9zK",
        "outputId": "384d5076-c940-4289-9eb7-376dce6eb5a0",
        "colab": {
          "base_uri": "https://localhost:8080/"
        }
      },
      "execution_count": 71,
      "outputs": [
        {
          "output_type": "stream",
          "name": "stdout",
          "text": [
            "False\n",
            "True\n",
            "True\n",
            "False\n",
            "True\n",
            "False\n"
          ]
        }
      ]
    },
    {
      "cell_type": "markdown",
      "source": [
        "**LOGICAL OPERATORS**"
      ],
      "metadata": {
        "id": "_sVuFjTDMkMg"
      }
    },
    {
      "cell_type": "markdown",
      "source": [
        "Logical operators are used to combine conditional statements."
      ],
      "metadata": {
        "id": "tL8glUnrMoIY"
      }
    },
    {
      "cell_type": "code",
      "source": [
        "a = True\n",
        "b = False\n",
        "\n",
        "print(a and b)\n",
        "print(a or b)\n",
        "print(not a)"
      ],
      "metadata": {
        "id": "rfQw8eHzMpus",
        "outputId": "7e240304-ef27-4dbe-fbef-d78b76d7a2ab",
        "colab": {
          "base_uri": "https://localhost:8080/"
        }
      },
      "execution_count": 72,
      "outputs": [
        {
          "output_type": "stream",
          "name": "stdout",
          "text": [
            "False\n",
            "True\n",
            "False\n"
          ]
        }
      ]
    },
    {
      "cell_type": "markdown",
      "source": [
        "**IDENTITY OPERATORS**"
      ],
      "metadata": {
        "id": "RcJkCA-KNIKE"
      }
    },
    {
      "cell_type": "markdown",
      "source": [
        "Mainly these are two types:"
      ],
      "metadata": {
        "id": "XdeaOrInNLo0"
      }
    },
    {
      "cell_type": "code",
      "source": [
        "x = [1, 2, 3]\n",
        "y = [1, 2, 3]\n",
        "z = x\n",
        "\n",
        "print(x is y)\n",
        "print(x is z)\n",
        "print(x is not y)"
      ],
      "metadata": {
        "id": "ML4f453HNQha",
        "outputId": "6c08ed00-0c44-44cf-f6a7-4b5466fd1676",
        "colab": {
          "base_uri": "https://localhost:8080/"
        }
      },
      "execution_count": 73,
      "outputs": [
        {
          "output_type": "stream",
          "name": "stdout",
          "text": [
            "False\n",
            "True\n",
            "True\n"
          ]
        }
      ]
    },
    {
      "cell_type": "markdown",
      "source": [
        "**BITWISE OPERATOR**"
      ],
      "metadata": {
        "id": "uY_pPIGnOeg8"
      }
    },
    {
      "cell_type": "markdown",
      "source": [
        "This is mainly used in JAVA and other language."
      ],
      "metadata": {
        "id": "rbLhMQFiOimj"
      }
    },
    {
      "cell_type": "code",
      "source": [
        "a = 5\n",
        "b = 3\n",
        "\n",
        "print(a & b)\n",
        "print(a | b)\n",
        "print(a ^ b)\n",
        "print(~a)\n",
        "print(a << 1)\n",
        "print(a >> 1)\n"
      ],
      "metadata": {
        "id": "g9eDq8B6OpUx",
        "outputId": "6250efc3-d565-40b1-b8dd-2e28cdcd4cf2",
        "colab": {
          "base_uri": "https://localhost:8080/"
        }
      },
      "execution_count": 74,
      "outputs": [
        {
          "output_type": "stream",
          "name": "stdout",
          "text": [
            "1\n",
            "7\n",
            "6\n",
            "-6\n",
            "10\n",
            "2\n"
          ]
        }
      ]
    },
    {
      "cell_type": "markdown",
      "source": [
        "# LISTS"
      ],
      "metadata": {
        "id": "Pm1p9Ny7xPlx"
      }
    },
    {
      "cell_type": "markdown",
      "source": [
        "#Lists are used to store multiple values in a single variable.lists are immutable it contains duplicates.list is denoted by square braces [ ].we can add and remove the items when list is created.A list contains different data types."
      ],
      "metadata": {
        "id": "XCI_K7qcxSo0"
      }
    },
    {
      "cell_type": "code",
      "source": [
        "my_list = [1,2,3,\"ram\",8.5]\n",
        "print(my_list)"
      ],
      "metadata": {
        "colab": {
          "base_uri": "https://localhost:8080/"
        },
        "id": "2H1rE2eWyEM3",
        "outputId": "19157192-69c0-4e1a-b872-985c69899c30"
      },
      "execution_count": 75,
      "outputs": [
        {
          "output_type": "stream",
          "name": "stdout",
          "text": [
            "[1, 2, 3, 'ram', 8.5]\n"
          ]
        }
      ]
    },
    {
      "cell_type": "code",
      "source": [
        "thislist = [\"banana\",\"apple\"]\n",
        "print(thislist)"
      ],
      "metadata": {
        "colab": {
          "base_uri": "https://localhost:8080/"
        },
        "id": "nDa0tlS7ydoo",
        "outputId": "4ca44c98-59d2-48e7-d4da-c0af4e2c80c6"
      },
      "execution_count": 76,
      "outputs": [
        {
          "output_type": "stream",
          "name": "stdout",
          "text": [
            "['banana', 'apple']\n"
          ]
        }
      ]
    },
    {
      "cell_type": "markdown",
      "source": [
        "# LIST LENGTH"
      ],
      "metadata": {
        "id": "VY2kyLRMzUgQ"
      }
    },
    {
      "cell_type": "markdown",
      "source": [
        "It specifies the no of words in the list."
      ],
      "metadata": {
        "id": "EXEk6LBizZmJ"
      }
    },
    {
      "cell_type": "code",
      "source": [
        "a = [\"hello\",\"kumar\",0,8.9]\n",
        "print(len(a))"
      ],
      "metadata": {
        "colab": {
          "base_uri": "https://localhost:8080/"
        },
        "id": "bY2jze93zfrK",
        "outputId": "83d084f1-0479-42f3-d878-79787e5776e6"
      },
      "execution_count": 77,
      "outputs": [
        {
          "output_type": "stream",
          "name": "stdout",
          "text": [
            "4\n"
          ]
        }
      ]
    },
    {
      "cell_type": "markdown",
      "source": [
        "# LIST ITEMS - DATA TYPES"
      ],
      "metadata": {
        "id": "g7Q7en-z0m6-"
      }
    },
    {
      "cell_type": "markdown",
      "source": [
        "List supports different types of data types.Like int,float,string etc...."
      ],
      "metadata": {
        "id": "rDBtaULR0sRQ"
      }
    },
    {
      "cell_type": "code",
      "source": [
        "list1 = [\"apple\", \"banana\", \"cherry\"]\n",
        "list2 = [1, 5, 7, 9, 3]\n",
        "list3 = [True, False, False]\n",
        "print(list1)\n",
        "print(list2)\n",
        "print(list3)"
      ],
      "metadata": {
        "colab": {
          "base_uri": "https://localhost:8080/"
        },
        "id": "iCo6AlN9MM-7",
        "outputId": "acd81221-fc03-4b5f-9e52-ad74cab8f21f"
      },
      "execution_count": 78,
      "outputs": [
        {
          "output_type": "stream",
          "name": "stdout",
          "text": [
            "['apple', 'banana', 'cherry']\n",
            "[1, 5, 7, 9, 3]\n",
            "[True, False, False]\n"
          ]
        }
      ]
    },
    {
      "cell_type": "markdown",
      "source": [
        "**TYPE**() **FUNCTIONS**"
      ],
      "metadata": {
        "id": "n8uhr3CFMlTf"
      }
    },
    {
      "cell_type": "code",
      "source": [
        "mylist = [\"apple\", \"banana\", \"cherry\"]\n",
        "print(type(mylist))\n",
        "mylist =(\"apple\", \"banana\", \"cherry\")\n",
        "print(type(mylist))\n",
        "mylist = {\"apple\", \"banana\", \"cherry\"}\n",
        "print(type(mylist))\n"
      ],
      "metadata": {
        "colab": {
          "base_uri": "https://localhost:8080/"
        },
        "id": "VVlThZcQMri7",
        "outputId": "f9af52ca-e46b-4679-f609-f98040a2c887"
      },
      "execution_count": 79,
      "outputs": [
        {
          "output_type": "stream",
          "name": "stdout",
          "text": [
            "<class 'list'>\n",
            "<class 'tuple'>\n",
            "<class 'set'>\n"
          ]
        }
      ]
    },
    {
      "cell_type": "markdown",
      "source": [
        "# ACCESS ITEMS IN THE LIST"
      ],
      "metadata": {
        "id": "wymldfNBPdXU"
      }
    },
    {
      "cell_type": "code",
      "source": [
        "thislist = [\"apple\", \"banana\", \"cherry\"]\n",
        "print(thislist[1])\n"
      ],
      "metadata": {
        "colab": {
          "base_uri": "https://localhost:8080/"
        },
        "id": "kdAWOtvEPmrs",
        "outputId": "5df54004-b21c-4348-a343-362d419fca92"
      },
      "execution_count": 80,
      "outputs": [
        {
          "output_type": "stream",
          "name": "stdout",
          "text": [
            "banana\n"
          ]
        }
      ]
    },
    {
      "cell_type": "markdown",
      "source": [
        "**NEGATIVE** **INDEXING**"
      ],
      "metadata": {
        "id": "jPm7zOWyPw6m"
      }
    },
    {
      "cell_type": "code",
      "source": [
        "hello = [\"apple\", \"banana\", \"cherry\"]\n",
        "print(hello[-1])\n"
      ],
      "metadata": {
        "colab": {
          "base_uri": "https://localhost:8080/"
        },
        "id": "xMNM-8ixPraM",
        "outputId": "799af9a6-4c1c-4568-960d-d6e387852ad0"
      },
      "execution_count": 81,
      "outputs": [
        {
          "output_type": "stream",
          "name": "stdout",
          "text": [
            "cherry\n"
          ]
        }
      ]
    },
    {
      "cell_type": "code",
      "source": [
        "thislist = [\"apple\", \"banana\", \"kiwi\", \"melon\", \"mango\"]\n",
        "print(thislist[-4:-1])\n"
      ],
      "metadata": {
        "colab": {
          "base_uri": "https://localhost:8080/"
        },
        "id": "V0dCI37QPreZ",
        "outputId": "b92d36d9-dda7-4051-b641-7ed88400b85d"
      },
      "execution_count": 82,
      "outputs": [
        {
          "output_type": "stream",
          "name": "stdout",
          "text": [
            "['banana', 'kiwi', 'melon']\n"
          ]
        }
      ]
    },
    {
      "cell_type": "markdown",
      "source": [
        "**Range of indexes**"
      ],
      "metadata": {
        "id": "9hbSbnU-QShb"
      }
    },
    {
      "cell_type": "code",
      "source": [
        "thislist = [\"apple\", \"banana\", \"melon\",6, \"mango\"]\n",
        "print(thislist[2:5])\n"
      ],
      "metadata": {
        "colab": {
          "base_uri": "https://localhost:8080/"
        },
        "id": "YFmhWJz_PrhE",
        "outputId": "5423efdc-7fd3-4927-8d4a-b222a13eade7"
      },
      "execution_count": 83,
      "outputs": [
        {
          "output_type": "stream",
          "name": "stdout",
          "text": [
            "['melon', 6, 'mango']\n"
          ]
        }
      ]
    },
    {
      "cell_type": "markdown",
      "source": [
        "**CHANGE OF ITEMS**"
      ],
      "metadata": {
        "id": "E6c_hyOUQud0"
      }
    },
    {
      "cell_type": "code",
      "source": [
        "mylist = [\"svm\",34,\"erty\"]\n",
        "mylist[0] = \"java\"\n",
        "print(mylist)"
      ],
      "metadata": {
        "colab": {
          "base_uri": "https://localhost:8080/"
        },
        "id": "9rA67SDzQzBB",
        "outputId": "208447bc-2a2a-4b36-c39b-041908fdcb07"
      },
      "execution_count": 84,
      "outputs": [
        {
          "output_type": "stream",
          "name": "stdout",
          "text": [
            "['java', 34, 'erty']\n"
          ]
        }
      ]
    },
    {
      "cell_type": "code",
      "source": [
        "thislist = [\"apple\", \"banana\", \"kiwi\", \"melon\", \"mango\"]\n",
        "thislist[0:3] = [\"appa\",\"bappa\",\"cappa\"]\n",
        "print(thislist)\n"
      ],
      "metadata": {
        "colab": {
          "base_uri": "https://localhost:8080/"
        },
        "id": "28W9p6GJRKsD",
        "outputId": "dc27cb6a-20d5-47f9-b513-7dced45d2b8a"
      },
      "execution_count": 85,
      "outputs": [
        {
          "output_type": "stream",
          "name": "stdout",
          "text": [
            "['appa', 'bappa', 'cappa', 'melon', 'mango']\n"
          ]
        }
      ]
    },
    {
      "cell_type": "markdown",
      "source": [
        "# LIST METHODS"
      ],
      "metadata": {
        "id": "bw08pNxER7HD"
      }
    },
    {
      "cell_type": "code",
      "source": [
        "#append()\n",
        "\n",
        "mylist = [\"banana\",5,9.0]\n",
        "mylist.append(\"sriha\")\n",
        "print(mylist)"
      ],
      "metadata": {
        "colab": {
          "base_uri": "https://localhost:8080/"
        },
        "id": "e4oiYBgIR-H-",
        "outputId": "35b76c15-5f86-481d-be97-732d84422a8b"
      },
      "execution_count": 86,
      "outputs": [
        {
          "output_type": "stream",
          "name": "stdout",
          "text": [
            "['banana', 5, 9.0, 'sriha']\n"
          ]
        }
      ]
    },
    {
      "cell_type": "code",
      "source": [
        "# extend()\n",
        "\n",
        "thislist = [\"apple\", \"banana\", \"melon\",6, \"mango\"]\n",
        "mylist = [\"svm\",34,\"erty\"]\n",
        "thislist.extend(mylist)\n",
        "print(thislist)\n",
        "\n",
        "\n"
      ],
      "metadata": {
        "colab": {
          "base_uri": "https://localhost:8080/"
        },
        "id": "1QQKY12vSXr1",
        "outputId": "9ad66346-c335-48b1-fe7d-fbb113867435"
      },
      "execution_count": 87,
      "outputs": [
        {
          "output_type": "stream",
          "name": "stdout",
          "text": [
            "['apple', 'banana', 'melon', 6, 'mango', 'svm', 34, 'erty']\n"
          ]
        }
      ]
    },
    {
      "cell_type": "code",
      "source": [
        "# insert()\n",
        "\n",
        "hello = [\"apple\", \"banana\", \"cherry\"]\n",
        "hello.insert(1,2)\n",
        "print(hello)\n",
        "\n",
        "\n"
      ],
      "metadata": {
        "colab": {
          "base_uri": "https://localhost:8080/"
        },
        "id": "_ZSZPUjYSXb7",
        "outputId": "e4154978-420f-47f1-d760-61df086bab00"
      },
      "execution_count": 88,
      "outputs": [
        {
          "output_type": "stream",
          "name": "stdout",
          "text": [
            "['apple', 2, 'banana', 'cherry']\n"
          ]
        }
      ]
    },
    {
      "cell_type": "code",
      "source": [
        "#  remove()\n",
        "\n",
        "list1 = [\"apple\", \"banana\", \"cherry\"]\n",
        "list1.remove(\"apple\")\n",
        "print(list1)\n"
      ],
      "metadata": {
        "colab": {
          "base_uri": "https://localhost:8080/"
        },
        "id": "rRyx10i6TZAd",
        "outputId": "bbb0cdce-90d9-436b-8194-47fe28ab151e"
      },
      "execution_count": 89,
      "outputs": [
        {
          "output_type": "stream",
          "name": "stdout",
          "text": [
            "['banana', 'cherry']\n"
          ]
        }
      ]
    },
    {
      "cell_type": "code",
      "source": [
        "# pop()\n",
        "\n",
        "hello = [\"apple\", \"banana\", \"cherry\"]\n",
        "hello.pop(2)\n",
        "print(hello)"
      ],
      "metadata": {
        "colab": {
          "base_uri": "https://localhost:8080/"
        },
        "id": "w14tYVDlTzcj",
        "outputId": "90a9b3a2-b01f-4b78-f9fd-59064fb139d6"
      },
      "execution_count": 90,
      "outputs": [
        {
          "output_type": "stream",
          "name": "stdout",
          "text": [
            "['apple', 'banana']\n"
          ]
        }
      ]
    },
    {
      "cell_type": "code",
      "source": [
        "# delete()\n",
        "\n",
        "hello = [\"apple\", \"banana\", \"cherry\"]\n",
        "del(hello)\n",
        "\n"
      ],
      "metadata": {
        "id": "Gt7n57r3TzZ3"
      },
      "execution_count": 91,
      "outputs": []
    },
    {
      "cell_type": "code",
      "source": [
        "# clear()\n",
        "\n",
        "hello = [\"apple\", \"banana\", \"cherry\"]\n",
        "hello.clear()\n",
        "print(hello)"
      ],
      "metadata": {
        "colab": {
          "base_uri": "https://localhost:8080/"
        },
        "id": "X6cpwHtjUa8c",
        "outputId": "c1d87fc8-f5d2-41d4-d3e7-1de524757c9d"
      },
      "execution_count": 92,
      "outputs": [
        {
          "output_type": "stream",
          "name": "stdout",
          "text": [
            "[]\n"
          ]
        }
      ]
    },
    {
      "cell_type": "code",
      "source": [
        "# sort() in ascending\n",
        "\n",
        "thislist = [\"orange\", \"mango\", \"kiwi\", \"pineapple\", \"banana\"]\n",
        "thislist.sort()\n",
        "print(thislist)\n"
      ],
      "metadata": {
        "colab": {
          "base_uri": "https://localhost:8080/"
        },
        "id": "WU3AfD85VSos",
        "outputId": "4b34905d-92bd-4867-c5a4-417813a23126"
      },
      "execution_count": 93,
      "outputs": [
        {
          "output_type": "stream",
          "name": "stdout",
          "text": [
            "['banana', 'kiwi', 'mango', 'orange', 'pineapple']\n"
          ]
        }
      ]
    },
    {
      "cell_type": "code",
      "source": [
        "# sort() in descending\n",
        "\n",
        "thislist = [\"orange\", \"mango\", \"kiwi\", \"pineapple\", \"banana\"]\n",
        "thislist.sort(reverse = True)\n",
        "print(thislist)\n"
      ],
      "metadata": {
        "colab": {
          "base_uri": "https://localhost:8080/"
        },
        "id": "mgtO5s7xVdXF",
        "outputId": "34aa1a76-f78b-43b9-8dfd-7ed10b1c5bd5"
      },
      "execution_count": 94,
      "outputs": [
        {
          "output_type": "stream",
          "name": "stdout",
          "text": [
            "['pineapple', 'orange', 'mango', 'kiwi', 'banana']\n"
          ]
        }
      ]
    },
    {
      "cell_type": "code",
      "source": [
        "thislist = [\"banana\", \"Orange\", \"Kiwi\", \"cherry\"]\n",
        "thislist.reverse()\n",
        "print(thislist)\n"
      ],
      "metadata": {
        "colab": {
          "base_uri": "https://localhost:8080/"
        },
        "id": "OrpnCCbSWBtX",
        "outputId": "041cb25b-4bc8-406c-ff47-d79e988bf81f"
      },
      "execution_count": 95,
      "outputs": [
        {
          "output_type": "stream",
          "name": "stdout",
          "text": [
            "['cherry', 'Kiwi', 'Orange', 'banana']\n"
          ]
        }
      ]
    },
    {
      "cell_type": "markdown",
      "source": [
        "# TUPLES"
      ],
      "metadata": {
        "id": "QQszb5sOWb-t"
      }
    },
    {
      "cell_type": "markdown",
      "source": [
        "Tuples are used to store multiple values in a single variable.Tuples are mutable it does contains duplicates.Tuples is denoted by paranthesis  ( ).we can't add and remove the items when list is created.A list contains different data types.\n",
        "\n"
      ],
      "metadata": {
        "id": "tr20USHoWgqn"
      }
    },
    {
      "cell_type": "code",
      "source": [
        "tuple = (\"app\",\"twitter\")\n",
        "print(tuple)"
      ],
      "metadata": {
        "colab": {
          "base_uri": "https://localhost:8080/"
        },
        "id": "5_n5SZ1iW7_I",
        "outputId": "2a12b337-2a6d-4bd4-a558-4536691806f1"
      },
      "execution_count": 96,
      "outputs": [
        {
          "output_type": "stream",
          "name": "stdout",
          "text": [
            "('app', 'twitter')\n"
          ]
        }
      ]
    },
    {
      "cell_type": "markdown",
      "source": [
        "**Tuple length**"
      ],
      "metadata": {
        "id": "Q_sH2OBxYP-m"
      }
    },
    {
      "cell_type": "code",
      "source": [
        "thistuple = ( \"banana\", \"cherry\")\n",
        "print(len(thistuple))\n"
      ],
      "metadata": {
        "colab": {
          "base_uri": "https://localhost:8080/"
        },
        "id": "fjoBekkmYUi0",
        "outputId": "ba5a8634-ad57-41c1-9108-78a56591c772"
      },
      "execution_count": 97,
      "outputs": [
        {
          "output_type": "stream",
          "name": "stdout",
          "text": [
            "2\n"
          ]
        }
      ]
    },
    {
      "cell_type": "markdown",
      "source": [
        "# TUPLE METHODS"
      ],
      "metadata": {
        "id": "Iqg5mwFNYqqd"
      }
    },
    {
      "cell_type": "markdown",
      "source": [
        "There are mainly two types of tuple methods."
      ],
      "metadata": {
        "id": "5MPkh7a_Yu9c"
      }
    },
    {
      "cell_type": "code",
      "source": [
        "# index()\n",
        "\n",
        "tuple = ('a', 'banana', 'c', 'b', 'd')\n",
        "print(tuple.index('b'))"
      ],
      "metadata": {
        "colab": {
          "base_uri": "https://localhost:8080/"
        },
        "id": "MW7JQ-wJY170",
        "outputId": "d8071886-8da1-4644-cc78-82f6dfccdda4"
      },
      "execution_count": 98,
      "outputs": [
        {
          "output_type": "stream",
          "name": "stdout",
          "text": [
            "3\n"
          ]
        }
      ]
    },
    {
      "cell_type": "code",
      "source": [
        "# count()\n",
        "\n",
        "my = (1, 2, 2, 3, 2)\n",
        "print(my.count(2))\n",
        "print(my.count(4))\n"
      ],
      "metadata": {
        "colab": {
          "base_uri": "https://localhost:8080/"
        },
        "id": "HKX2yaTUaOlK",
        "outputId": "4c1d9aa8-995f-446a-f7ed-8fde0e94dca4"
      },
      "execution_count": 99,
      "outputs": [
        {
          "output_type": "stream",
          "name": "stdout",
          "text": [
            "3\n",
            "0\n"
          ]
        }
      ]
    },
    {
      "cell_type": "markdown",
      "source": [
        "# SET"
      ],
      "metadata": {
        "id": "SCOv2i_2amGx"
      }
    },
    {
      "cell_type": "markdown",
      "source": [
        "Sets are used to store multiple items in a single variable.A set is a collection which is unordered, unchangeable, and unindexed.set is denoted by { }.set doesn't contains duplicates.\n",
        "\n",
        "\n",
        ".\n",
        "\n",
        "\n",
        "\n"
      ],
      "metadata": {
        "id": "y5bGPDG0apbu"
      }
    },
    {
      "cell_type": "code",
      "source": [
        "set = {\"apple\", \"banana\", \"cherry\"}\n",
        "print(set)"
      ],
      "metadata": {
        "colab": {
          "base_uri": "https://localhost:8080/"
        },
        "id": "F2A-R1RnbOFV",
        "outputId": "71468f6d-aec1-4a1b-80ed-c4a4311a0391"
      },
      "execution_count": 100,
      "outputs": [
        {
          "output_type": "stream",
          "name": "stdout",
          "text": [
            "{'apple', 'banana', 'cherry'}\n"
          ]
        }
      ]
    },
    {
      "cell_type": "code",
      "source": [
        "thisset = {4,4,5,6,6}\n",
        "\n",
        "print(thisset)\n"
      ],
      "metadata": {
        "colab": {
          "base_uri": "https://localhost:8080/"
        },
        "id": "BTz3yMsnbluA",
        "outputId": "e758dfdc-5b68-4565-be42-53ead91ab351"
      },
      "execution_count": 101,
      "outputs": [
        {
          "output_type": "stream",
          "name": "stdout",
          "text": [
            "{4, 5, 6}\n"
          ]
        }
      ]
    },
    {
      "cell_type": "markdown",
      "source": [
        "The values True and 1 are considered the same value in sets:\n",
        "False and 0 is considered the same value"
      ],
      "metadata": {
        "id": "YxXTOkbQbxB0"
      }
    },
    {
      "cell_type": "code",
      "source": [
        "myset = {\"apple\", True, 1, 2}\n",
        "\n",
        "print(myset)\n",
        "\n",
        "\n",
        "thisset = {\"apple\", False, True, 0}\n",
        "\n",
        "print(thisset)\n"
      ],
      "metadata": {
        "colab": {
          "base_uri": "https://localhost:8080/"
        },
        "id": "nwSMwR1Bbx6K",
        "outputId": "e477e6cf-d492-4f93-fab3-4a710e32ed2f"
      },
      "execution_count": 102,
      "outputs": [
        {
          "output_type": "stream",
          "name": "stdout",
          "text": [
            "{'apple', True, 2}\n",
            "{'apple', False, True}\n"
          ]
        }
      ]
    },
    {
      "cell_type": "markdown",
      "source": [
        "**SET** **METHODS**"
      ],
      "metadata": {
        "id": "5UMIyc-HcYVv"
      }
    },
    {
      "cell_type": "code",
      "source": [
        "# union()\n",
        "\n",
        "myset = {\"banana\",\"sagar\"}\n",
        "thisset = {12,34,56}\n",
        "set = myset.union(thisset)\n",
        "print(set)"
      ],
      "metadata": {
        "colab": {
          "base_uri": "https://localhost:8080/"
        },
        "id": "5bG5x-4ncjb5",
        "outputId": "d23a7920-b1c8-478e-b0e3-64eb7800bfd7"
      },
      "execution_count": 103,
      "outputs": [
        {
          "output_type": "stream",
          "name": "stdout",
          "text": [
            "{'sagar', 34, 56, 'banana', 12}\n"
          ]
        }
      ]
    },
    {
      "cell_type": "code",
      "source": [
        "myset = {\"banana\",\"sagar\"}\n",
        "thisset = {12,34,56}\n",
        "set = {\"apple\", \"banana\", \"cherry\"}\n",
        "bro = {3.3,5.4}\n",
        "show = myset.union(thisset,set,bro)\n",
        "print(show)"
      ],
      "metadata": {
        "colab": {
          "base_uri": "https://localhost:8080/"
        },
        "id": "zWMLSwsOdtbs",
        "outputId": "0eaf5158-137f-474e-b7dc-e1b83f30fece"
      },
      "execution_count": 104,
      "outputs": [
        {
          "output_type": "stream",
          "name": "stdout",
          "text": [
            "{'sagar', 34, 3.3, 5.4, 'apple', 'banana', 12, 56, 'cherry'}\n"
          ]
        }
      ]
    },
    {
      "cell_type": "code",
      "source": [
        "#  intersection()\n",
        "\n",
        "myset = {\"banana\",\"sagar\"}\n",
        "set = {\"apple\", \"banana\", \"cherry\"}\n",
        "thisset = myset.intersection(set)\n",
        "print(thisset)"
      ],
      "metadata": {
        "colab": {
          "base_uri": "https://localhost:8080/"
        },
        "id": "zEiyTpIMeLa1",
        "outputId": "2983e626-b723-4988-8dca-9bbf2802fb0a"
      },
      "execution_count": 105,
      "outputs": [
        {
          "output_type": "stream",
          "name": "stdout",
          "text": [
            "{'banana'}\n"
          ]
        }
      ]
    },
    {
      "cell_type": "code",
      "source": [
        "# add()\n",
        "\n",
        "fruits = {\"apple\", \"banana\", \"cherry\"}\n",
        "\n",
        "fruits.add(\"orange\")\n",
        "\n",
        "print(fruits)"
      ],
      "metadata": {
        "colab": {
          "base_uri": "https://localhost:8080/"
        },
        "id": "uddK3yvFotMt",
        "outputId": "b132beaf-6010-44ab-aa1e-8310663faca2"
      },
      "execution_count": 106,
      "outputs": [
        {
          "output_type": "stream",
          "name": "stdout",
          "text": [
            "{'apple', 'banana', 'cherry', 'orange'}\n"
          ]
        }
      ]
    },
    {
      "cell_type": "code",
      "source": [
        "# isdisjoint()\n",
        "\n",
        "myset = {\"banana\",\"sagar\"}\n",
        "set = {\"apple\", \"banana\", \"cherry\"}\n",
        "thisset = myset.isdisjoint(set)\n",
        "print(thisset)\n",
        "\n",
        "\n"
      ],
      "metadata": {
        "colab": {
          "base_uri": "https://localhost:8080/"
        },
        "id": "4s515-1brW7w",
        "outputId": "62aafc0a-3679-4f8f-b266-5b16f9fcba89"
      },
      "execution_count": 107,
      "outputs": [
        {
          "output_type": "stream",
          "name": "stdout",
          "text": [
            "False\n"
          ]
        }
      ]
    },
    {
      "cell_type": "markdown",
      "source": [
        "## DICTIONARIES"
      ],
      "metadata": {
        "id": "WjG7mLM0r2N5"
      }
    },
    {
      "cell_type": "markdown",
      "source": [
        "Dictionaries are used to store data values in key:value pairs.\n",
        "A dictionary is a collection which is ordered*, changeable and do not allow duplicates.Dictionaries are written with curly brackets, and have keys and values:"
      ],
      "metadata": {
        "id": "ecTa48Jzr-uA"
      }
    },
    {
      "cell_type": "code",
      "source": [
        "dict = {\n",
        "  \"book\": \"classmate\",\n",
        "  \"model\": \"Mustang\",\n",
        "  \"year\": 1964\n",
        "}\n",
        "print(dict)"
      ],
      "metadata": {
        "colab": {
          "base_uri": "https://localhost:8080/"
        },
        "id": "LO1QBP7PsRZ5",
        "outputId": "1bf94b89-3342-4872-ea58-d6421a063e8f"
      },
      "execution_count": 108,
      "outputs": [
        {
          "output_type": "stream",
          "name": "stdout",
          "text": [
            "{'book': 'classmate', 'model': 'Mustang', 'year': 1964}\n"
          ]
        }
      ]
    },
    {
      "cell_type": "markdown",
      "source": [
        "we have to print only particular sentence the beloe code will used."
      ],
      "metadata": {
        "id": "ECwwmSTSs2Im"
      }
    },
    {
      "cell_type": "code",
      "source": [
        "sri = {\n",
        "    \"sriram\" : \"CSM\" ,\n",
        "    \"village\" : \"vadapalem\" ,\n",
        "    \"birth\" : 2005 ,\n",
        "}\n",
        "print(sri[\"village\"])"
      ],
      "metadata": {
        "colab": {
          "base_uri": "https://localhost:8080/"
        },
        "id": "wrbgkwpYtQ1R",
        "outputId": "277b0e04-205e-44b3-a03a-9965eae1bcfa"
      },
      "execution_count": 109,
      "outputs": [
        {
          "output_type": "stream",
          "name": "stdout",
          "text": [
            "vadapalem\n"
          ]
        }
      ]
    },
    {
      "cell_type": "markdown",
      "source": [
        "# DICTIONARY METHODS"
      ],
      "metadata": {
        "id": "J1dwnGA3-5aI"
      }
    },
    {
      "cell_type": "markdown",
      "source": [],
      "metadata": {
        "id": "YZpphk-E-25U"
      }
    },
    {
      "cell_type": "markdown",
      "source": [
        "Here are some methods are used in the topic.There are"
      ],
      "metadata": {
        "id": "-dHia2dK_ATO"
      }
    },
    {
      "cell_type": "code",
      "source": [
        "dict = {\n",
        "    \"pen\": \"softek\",\n",
        "    \"book\": \"classmate\",\n",
        "    \"year\": 2009\n",
        "}\n",
        "dict.clear()\n",
        "print(dict)"
      ],
      "metadata": {
        "colab": {
          "base_uri": "https://localhost:8080/"
        },
        "id": "-dTBFmTW_qo5",
        "outputId": "b1aee1df-a789-4ede-da79-44e70609d252"
      },
      "execution_count": 110,
      "outputs": [
        {
          "output_type": "stream",
          "name": "stdout",
          "text": [
            "{}\n"
          ]
        }
      ]
    },
    {
      "cell_type": "markdown",
      "source": [
        "we have to print the without pairs and incude keys.The key word is fromkeys()."
      ],
      "metadata": {
        "id": "XsS4xBGgCW5K"
      }
    },
    {
      "cell_type": "code",
      "source": [
        "vam = {\"aalu\",\"balu\",\"golu\"}\n",
        "man = 0\n",
        "can = dict.fromkeys(vam,man)\n",
        "print(vam)"
      ],
      "metadata": {
        "colab": {
          "base_uri": "https://localhost:8080/"
        },
        "id": "HoH8cY77CnKW",
        "outputId": "51309fa0-b9fd-4e15-fac4-c71ea48480a6"
      },
      "execution_count": 111,
      "outputs": [
        {
          "output_type": "stream",
          "name": "stdout",
          "text": [
            "{'aalu', 'balu', 'golu'}\n"
          ]
        }
      ]
    },
    {
      "cell_type": "code",
      "source": [
        "# pop()\n",
        "\n",
        "car = {\n",
        "   'department' : 'CSE',\n",
        "   'department1' : 'ECE',\n",
        "   'department2' : 'IT',\n",
        "}\n",
        "car.pop('department2')\n",
        "print(car)"
      ],
      "metadata": {
        "colab": {
          "base_uri": "https://localhost:8080/"
        },
        "id": "TqAzZcLZEL1E",
        "outputId": "02f31d52-3074-48de-af8e-f5630bde4752"
      },
      "execution_count": 112,
      "outputs": [
        {
          "output_type": "stream",
          "name": "stdout",
          "text": [
            "{'department': 'CSE', 'department1': 'ECE'}\n"
          ]
        }
      ]
    },
    {
      "cell_type": "code",
      "source": [
        "# popitem()\n",
        "\n",
        "s = {'father' : 'chandu',\n",
        "     'mother' : 'krishna',\n",
        "     'brother' : 'pandu',\n",
        "     }\n",
        "s.popitem()\n",
        "print(s)"
      ],
      "metadata": {
        "colab": {
          "base_uri": "https://localhost:8080/"
        },
        "id": "eZBWGnslFxFW",
        "outputId": "60f579ef-f336-4342-b6d2-e108f89bebd2"
      },
      "execution_count": 113,
      "outputs": [
        {
          "output_type": "stream",
          "name": "stdout",
          "text": [
            "{'father': 'chandu', 'mother': 'krishna'}\n"
          ]
        }
      ]
    },
    {
      "cell_type": "markdown",
      "source": [
        "# CONDITIONAL STATEMENTS"
      ],
      "metadata": {
        "id": "7PM-FHXAPhPE"
      }
    },
    {
      "cell_type": "markdown",
      "source": [
        "There are mainly 4 conditions in python programs."
      ],
      "metadata": {
        "id": "TGQt_3I4QMkC"
      }
    },
    {
      "cell_type": "code",
      "source": [
        "# if statement:\n",
        "\n",
        "\n",
        "a = 47\n",
        "if a > 10:\n",
        "  print(\"a is big\")\n",
        "else:\n",
        "  print(\"a is not big\")"
      ],
      "metadata": {
        "id": "9TOlYBNBQUq8",
        "outputId": "c7b91619-7e47-4dd7-e510-bf110c36b007",
        "colab": {
          "base_uri": "https://localhost:8080/"
        }
      },
      "execution_count": 114,
      "outputs": [
        {
          "output_type": "stream",
          "name": "stdout",
          "text": [
            "a is big\n"
          ]
        }
      ]
    },
    {
      "cell_type": "code",
      "source": [
        "# elif statement:\n",
        "\n",
        "\n",
        "a = 47\n",
        "b = 47\n",
        "if a > b:\n",
        "  print(a is big)\n",
        "elif a == b:\n",
        "  print('a and b are equal')\n",
        "else:\n",
        "  print('b is big')"
      ],
      "metadata": {
        "id": "H4R5jdK7RGY-",
        "outputId": "7e0bd78e-ddef-4d88-a2af-160acac0395f",
        "colab": {
          "base_uri": "https://localhost:8080/"
        }
      },
      "execution_count": 115,
      "outputs": [
        {
          "output_type": "stream",
          "name": "stdout",
          "text": [
            "a and b are equal\n"
          ]
        }
      ]
    },
    {
      "cell_type": "code",
      "source": [
        "# else statement:\n",
        "\n",
        "\n",
        "a = 200\n",
        "b = 33\n",
        "if b > a:\n",
        "  print(\"b is greater than a\")\n",
        "elif a == b:\n",
        "  print(\"a and b are equal\")\n",
        "else:\n",
        "  print(\"a is greater than b\")"
      ],
      "metadata": {
        "id": "K1fs7UvtR4Lc",
        "outputId": "4d7037a5-c7cc-4000-82b2-a7880f62d02a",
        "colab": {
          "base_uri": "https://localhost:8080/"
        }
      },
      "execution_count": 116,
      "outputs": [
        {
          "output_type": "stream",
          "name": "stdout",
          "text": [
            "a is greater than b\n"
          ]
        }
      ]
    },
    {
      "cell_type": "code",
      "source": [
        "# nestedif statement:\n",
        "\n",
        "\n",
        "x = 41\n",
        "\n",
        "if x > 10:\n",
        "  print(\"Above ten,\")\n",
        "  if x > 20:\n",
        "    print(\"and also above 20!\")\n",
        "  else:\n",
        "    print(\"but not above 20.\")\n"
      ],
      "metadata": {
        "id": "xRl-3rsdSJDJ",
        "outputId": "068b25dd-96a2-4d31-9e70-63404828eb98",
        "colab": {
          "base_uri": "https://localhost:8080/"
        }
      },
      "execution_count": 117,
      "outputs": [
        {
          "output_type": "stream",
          "name": "stdout",
          "text": [
            "Above ten,\n",
            "and also above 20!\n"
          ]
        }
      ]
    },
    {
      "cell_type": "markdown",
      "source": [
        "# MATCH CASES"
      ],
      "metadata": {
        "id": "oMVzblIjS96L"
      }
    },
    {
      "cell_type": "markdown",
      "source": [
        "It is a way for Python to check one value against many options and run the matching code."
      ],
      "metadata": {
        "id": "h5As-ETbTB9G"
      }
    },
    {
      "cell_type": "code",
      "source": [
        "value = \"banana\"\n",
        "\n",
        "match value:\n",
        "    case \"apple\":\n",
        "        print(\"It's an apple\")\n",
        "    case \"banana\":\n",
        "        print(\"It's a banana\")\n",
        "    case _:\n",
        "        print(\"Something else\")"
      ],
      "metadata": {
        "id": "gA7Ki7bzTD9r",
        "outputId": "0ed39274-7481-45d5-d1d2-2baa4a9bc4df",
        "colab": {
          "base_uri": "https://localhost:8080/"
        }
      },
      "execution_count": 118,
      "outputs": [
        {
          "output_type": "stream",
          "name": "stdout",
          "text": [
            "It's a banana\n"
          ]
        }
      ]
    },
    {
      "cell_type": "code",
      "source": [
        "point = (0, 5)\n",
        "\n",
        "match point:\n",
        "    case (0, 0):\n",
        "        print(\"Origin\")\n",
        "    case (x, 0):\n",
        "        print(f\"On X-axis at {x}\")\n",
        "    case (0, y):\n",
        "        print(f\"On Y-axis at {y}\")\n",
        "    case (x, y):\n",
        "        print(f\"Somewhere else: ({x}, {y})\")"
      ],
      "metadata": {
        "id": "XwGVceOyTMt0",
        "outputId": "e35c3241-e43f-46fb-ff0d-5f0806506c5a",
        "colab": {
          "base_uri": "https://localhost:8080/"
        }
      },
      "execution_count": 119,
      "outputs": [
        {
          "output_type": "stream",
          "name": "stdout",
          "text": [
            "On Y-axis at 5\n"
          ]
        }
      ]
    },
    {
      "cell_type": "code",
      "source": [
        "number = 7\n",
        "\n",
        "match number:\n",
        "    case x if x % 2 == 0:\n",
        "        print(f\"{x} is even\")\n",
        "    case x if x % 2 == 1:\n",
        "        print(f\"{x} is odd\")"
      ],
      "metadata": {
        "id": "5dpoELYFTaMX",
        "outputId": "8041b5a0-fef3-4385-841f-0ab7c0b886ed",
        "colab": {
          "base_uri": "https://localhost:8080/"
        }
      },
      "execution_count": 120,
      "outputs": [
        {
          "output_type": "stream",
          "name": "stdout",
          "text": [
            "7 is odd\n"
          ]
        }
      ]
    }
  ]
}